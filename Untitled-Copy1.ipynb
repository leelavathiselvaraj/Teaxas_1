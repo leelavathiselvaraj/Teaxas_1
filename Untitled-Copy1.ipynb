{
 "cells": [
  {
   "cell_type": "code",
   "execution_count": 1,
   "id": "e242cd62",
   "metadata": {},
   "outputs": [],
   "source": [
    "import pandas as pd\n",
    "import numpy as np\n",
    "import matplotlib.pyplot as plt\n",
    "import seaborn as sns\n",
    "import warnings\n",
    "warnings.filterwarnings('ignore')"
   ]
  },
  {
   "cell_type": "code",
   "execution_count": 2,
   "id": "2c523103",
   "metadata": {},
   "outputs": [],
   "source": [
    "data=pd.read_csv('preprocessed.csv')"
   ]
  },
  {
   "cell_type": "markdown",
   "id": "05aab5a9",
   "metadata": {},
   "source": [
    "###### After cleaning the data we would transfer the data as preprocessed data"
   ]
  },
  {
   "cell_type": "code",
   "execution_count": 3,
   "id": "83987c68",
   "metadata": {},
   "outputs": [
    {
     "data": {
      "text/html": [
       "<div>\n",
       "<style scoped>\n",
       "    .dataframe tbody tr th:only-of-type {\n",
       "        vertical-align: middle;\n",
       "    }\n",
       "\n",
       "    .dataframe tbody tr th {\n",
       "        vertical-align: top;\n",
       "    }\n",
       "\n",
       "    .dataframe thead th {\n",
       "        text-align: right;\n",
       "    }\n",
       "</style>\n",
       "<table border=\"1\" class=\"dataframe\">\n",
       "  <thead>\n",
       "    <tr style=\"text-align: right;\">\n",
       "      <th></th>\n",
       "      <th>Unnamed: 0</th>\n",
       "      <th>AGENCY</th>\n",
       "      <th>AGENCY NAME</th>\n",
       "      <th>FIRST NAME</th>\n",
       "      <th>LAST NAME</th>\n",
       "      <th>MI</th>\n",
       "      <th>CLASS CODE</th>\n",
       "      <th>CLASS TITLE</th>\n",
       "      <th>ETHNICITY</th>\n",
       "      <th>GENDER</th>\n",
       "      <th>STATUS</th>\n",
       "      <th>EMPLOY DATE</th>\n",
       "      <th>HRLY RATE</th>\n",
       "      <th>HRS PER WK</th>\n",
       "      <th>MONTHLY</th>\n",
       "      <th>ANNUAL</th>\n",
       "    </tr>\n",
       "  </thead>\n",
       "  <tbody>\n",
       "    <tr>\n",
       "      <th>0</th>\n",
       "      <td>0</td>\n",
       "      <td>0.168878</td>\n",
       "      <td>0.151786</td>\n",
       "      <td>0.648357</td>\n",
       "      <td>0.787635</td>\n",
       "      <td>0.846154</td>\n",
       "      <td>0.952027</td>\n",
       "      <td>0.500352</td>\n",
       "      <td>1.0</td>\n",
       "      <td>1.0</td>\n",
       "      <td>0.8</td>\n",
       "      <td>0.150461</td>\n",
       "      <td>0.644898</td>\n",
       "      <td>0.405797</td>\n",
       "      <td>1.000000</td>\n",
       "      <td>91617.18</td>\n",
       "    </tr>\n",
       "    <tr>\n",
       "      <th>1</th>\n",
       "      <td>1</td>\n",
       "      <td>0.133896</td>\n",
       "      <td>0.428571</td>\n",
       "      <td>0.648357</td>\n",
       "      <td>0.787635</td>\n",
       "      <td>0.846154</td>\n",
       "      <td>0.416216</td>\n",
       "      <td>0.394089</td>\n",
       "      <td>1.0</td>\n",
       "      <td>1.0</td>\n",
       "      <td>0.4</td>\n",
       "      <td>0.096123</td>\n",
       "      <td>0.688051</td>\n",
       "      <td>0.043478</td>\n",
       "      <td>0.156271</td>\n",
       "      <td>16857.24</td>\n",
       "    </tr>\n",
       "    <tr>\n",
       "      <th>2</th>\n",
       "      <td>2</td>\n",
       "      <td>0.168878</td>\n",
       "      <td>0.151786</td>\n",
       "      <td>0.426734</td>\n",
       "      <td>0.858380</td>\n",
       "      <td>0.384615</td>\n",
       "      <td>0.952027</td>\n",
       "      <td>0.500352</td>\n",
       "      <td>1.0</td>\n",
       "      <td>1.0</td>\n",
       "      <td>0.8</td>\n",
       "      <td>0.096918</td>\n",
       "      <td>0.644898</td>\n",
       "      <td>0.405797</td>\n",
       "      <td>1.000000</td>\n",
       "      <td>91617.18</td>\n",
       "    </tr>\n",
       "    <tr>\n",
       "      <th>3</th>\n",
       "      <td>3</td>\n",
       "      <td>0.133896</td>\n",
       "      <td>0.428571</td>\n",
       "      <td>0.426734</td>\n",
       "      <td>0.858380</td>\n",
       "      <td>0.384615</td>\n",
       "      <td>0.416216</td>\n",
       "      <td>0.394089</td>\n",
       "      <td>1.0</td>\n",
       "      <td>1.0</td>\n",
       "      <td>0.4</td>\n",
       "      <td>0.678106</td>\n",
       "      <td>0.688051</td>\n",
       "      <td>0.043478</td>\n",
       "      <td>0.156271</td>\n",
       "      <td>16857.24</td>\n",
       "    </tr>\n",
       "    <tr>\n",
       "      <th>4</th>\n",
       "      <td>4</td>\n",
       "      <td>0.717732</td>\n",
       "      <td>0.785714</td>\n",
       "      <td>0.295144</td>\n",
       "      <td>0.684232</td>\n",
       "      <td>0.000000</td>\n",
       "      <td>0.547297</td>\n",
       "      <td>0.205489</td>\n",
       "      <td>0.6</td>\n",
       "      <td>0.0</td>\n",
       "      <td>0.0</td>\n",
       "      <td>0.509851</td>\n",
       "      <td>0.000000</td>\n",
       "      <td>0.565217</td>\n",
       "      <td>0.410812</td>\n",
       "      <td>39411.24</td>\n",
       "    </tr>\n",
       "  </tbody>\n",
       "</table>\n",
       "</div>"
      ],
      "text/plain": [
       "   Unnamed: 0    AGENCY  AGENCY NAME  FIRST NAME  LAST NAME        MI  \\\n",
       "0           0  0.168878     0.151786    0.648357   0.787635  0.846154   \n",
       "1           1  0.133896     0.428571    0.648357   0.787635  0.846154   \n",
       "2           2  0.168878     0.151786    0.426734   0.858380  0.384615   \n",
       "3           3  0.133896     0.428571    0.426734   0.858380  0.384615   \n",
       "4           4  0.717732     0.785714    0.295144   0.684232  0.000000   \n",
       "\n",
       "   CLASS CODE  CLASS TITLE  ETHNICITY  GENDER  STATUS  EMPLOY DATE  HRLY RATE  \\\n",
       "0    0.952027     0.500352        1.0     1.0     0.8     0.150461   0.644898   \n",
       "1    0.416216     0.394089        1.0     1.0     0.4     0.096123   0.688051   \n",
       "2    0.952027     0.500352        1.0     1.0     0.8     0.096918   0.644898   \n",
       "3    0.416216     0.394089        1.0     1.0     0.4     0.678106   0.688051   \n",
       "4    0.547297     0.205489        0.6     0.0     0.0     0.509851   0.000000   \n",
       "\n",
       "   HRS PER WK   MONTHLY    ANNUAL  \n",
       "0    0.405797  1.000000  91617.18  \n",
       "1    0.043478  0.156271  16857.24  \n",
       "2    0.405797  1.000000  91617.18  \n",
       "3    0.043478  0.156271  16857.24  \n",
       "4    0.565217  0.410812  39411.24  "
      ]
     },
     "execution_count": 3,
     "metadata": {},
     "output_type": "execute_result"
    }
   ],
   "source": [
    "data.head()"
   ]
  },
  {
   "cell_type": "markdown",
   "id": "81aff86a",
   "metadata": {},
   "source": [
    "###### we imported as a preprocessed csv after completing the EDA process"
   ]
  },
  {
   "cell_type": "code",
   "execution_count": 4,
   "id": "a6c0fe5f",
   "metadata": {},
   "outputs": [
    {
     "data": {
      "text/plain": [
       "Index(['Unnamed: 0', 'AGENCY', 'AGENCY NAME', 'FIRST NAME', 'LAST NAME', 'MI',\n",
       "       'CLASS CODE', 'CLASS TITLE', 'ETHNICITY', 'GENDER', 'STATUS',\n",
       "       'EMPLOY DATE', 'HRLY RATE', 'HRS PER WK', 'MONTHLY', 'ANNUAL'],\n",
       "      dtype='object')"
      ]
     },
     "execution_count": 4,
     "metadata": {},
     "output_type": "execute_result"
    }
   ],
   "source": [
    "data.columns"
   ]
  },
  {
   "cell_type": "markdown",
   "id": "9936ffcd",
   "metadata": {},
   "source": [
    "###### column names of the preproceesed data"
   ]
  },
  {
   "cell_type": "code",
   "execution_count": 5,
   "id": "1a3b957d",
   "metadata": {},
   "outputs": [],
   "source": [
    "data.drop(['Unnamed: 0'],axis=1,inplace=True)"
   ]
  },
  {
   "cell_type": "markdown",
   "id": "376a4654",
   "metadata": {},
   "source": [
    "###### we would drop the unwanted column 'Unnamed: 0'"
   ]
  },
  {
   "cell_type": "code",
   "execution_count": 6,
   "id": "169bb9f5",
   "metadata": {},
   "outputs": [
    {
     "data": {
      "text/html": [
       "<div>\n",
       "<style scoped>\n",
       "    .dataframe tbody tr th:only-of-type {\n",
       "        vertical-align: middle;\n",
       "    }\n",
       "\n",
       "    .dataframe tbody tr th {\n",
       "        vertical-align: top;\n",
       "    }\n",
       "\n",
       "    .dataframe thead th {\n",
       "        text-align: right;\n",
       "    }\n",
       "</style>\n",
       "<table border=\"1\" class=\"dataframe\">\n",
       "  <thead>\n",
       "    <tr style=\"text-align: right;\">\n",
       "      <th></th>\n",
       "      <th>AGENCY</th>\n",
       "      <th>AGENCY NAME</th>\n",
       "      <th>FIRST NAME</th>\n",
       "      <th>LAST NAME</th>\n",
       "      <th>MI</th>\n",
       "      <th>CLASS CODE</th>\n",
       "      <th>CLASS TITLE</th>\n",
       "      <th>ETHNICITY</th>\n",
       "      <th>GENDER</th>\n",
       "      <th>STATUS</th>\n",
       "      <th>EMPLOY DATE</th>\n",
       "      <th>HRLY RATE</th>\n",
       "      <th>HRS PER WK</th>\n",
       "      <th>MONTHLY</th>\n",
       "      <th>ANNUAL</th>\n",
       "    </tr>\n",
       "  </thead>\n",
       "  <tbody>\n",
       "    <tr>\n",
       "      <th>AGENCY</th>\n",
       "      <td>1.000000</td>\n",
       "      <td>0.434667</td>\n",
       "      <td>-0.005441</td>\n",
       "      <td>-0.012039</td>\n",
       "      <td>0.089050</td>\n",
       "      <td>0.068594</td>\n",
       "      <td>-0.178545</td>\n",
       "      <td>-0.034903</td>\n",
       "      <td>0.093244</td>\n",
       "      <td>-0.276853</td>\n",
       "      <td>0.033668</td>\n",
       "      <td>-0.083653</td>\n",
       "      <td>-0.013847</td>\n",
       "      <td>-0.265486</td>\n",
       "      <td>-0.265486</td>\n",
       "    </tr>\n",
       "    <tr>\n",
       "      <th>AGENCY NAME</th>\n",
       "      <td>0.434667</td>\n",
       "      <td>1.000000</td>\n",
       "      <td>-0.003461</td>\n",
       "      <td>-0.003935</td>\n",
       "      <td>-0.000053</td>\n",
       "      <td>-0.052702</td>\n",
       "      <td>-0.150526</td>\n",
       "      <td>0.030906</td>\n",
       "      <td>0.190787</td>\n",
       "      <td>-0.009776</td>\n",
       "      <td>0.004909</td>\n",
       "      <td>-0.054441</td>\n",
       "      <td>-0.012687</td>\n",
       "      <td>-0.085328</td>\n",
       "      <td>-0.085328</td>\n",
       "    </tr>\n",
       "    <tr>\n",
       "      <th>FIRST NAME</th>\n",
       "      <td>-0.005441</td>\n",
       "      <td>-0.003461</td>\n",
       "      <td>1.000000</td>\n",
       "      <td>0.009045</td>\n",
       "      <td>-0.005113</td>\n",
       "      <td>-0.015143</td>\n",
       "      <td>0.007079</td>\n",
       "      <td>-0.015361</td>\n",
       "      <td>-0.025838</td>\n",
       "      <td>-0.004476</td>\n",
       "      <td>0.010584</td>\n",
       "      <td>0.003607</td>\n",
       "      <td>-0.000765</td>\n",
       "      <td>0.010130</td>\n",
       "      <td>0.010130</td>\n",
       "    </tr>\n",
       "    <tr>\n",
       "      <th>LAST NAME</th>\n",
       "      <td>-0.012039</td>\n",
       "      <td>-0.003935</td>\n",
       "      <td>0.009045</td>\n",
       "      <td>1.000000</td>\n",
       "      <td>0.006241</td>\n",
       "      <td>-0.002381</td>\n",
       "      <td>0.004274</td>\n",
       "      <td>0.013056</td>\n",
       "      <td>-0.003985</td>\n",
       "      <td>0.003681</td>\n",
       "      <td>0.000403</td>\n",
       "      <td>0.000821</td>\n",
       "      <td>0.004470</td>\n",
       "      <td>0.009090</td>\n",
       "      <td>0.009090</td>\n",
       "    </tr>\n",
       "    <tr>\n",
       "      <th>MI</th>\n",
       "      <td>0.089050</td>\n",
       "      <td>-0.000053</td>\n",
       "      <td>-0.005113</td>\n",
       "      <td>0.006241</td>\n",
       "      <td>1.000000</td>\n",
       "      <td>0.032279</td>\n",
       "      <td>-0.027416</td>\n",
       "      <td>0.079420</td>\n",
       "      <td>0.018192</td>\n",
       "      <td>0.016814</td>\n",
       "      <td>0.006070</td>\n",
       "      <td>-0.001218</td>\n",
       "      <td>-0.009290</td>\n",
       "      <td>0.015367</td>\n",
       "      <td>0.015367</td>\n",
       "    </tr>\n",
       "    <tr>\n",
       "      <th>CLASS CODE</th>\n",
       "      <td>0.068594</td>\n",
       "      <td>-0.052702</td>\n",
       "      <td>-0.015143</td>\n",
       "      <td>-0.002381</td>\n",
       "      <td>0.032279</td>\n",
       "      <td>1.000000</td>\n",
       "      <td>0.144373</td>\n",
       "      <td>-0.056818</td>\n",
       "      <td>0.127360</td>\n",
       "      <td>0.225200</td>\n",
       "      <td>-0.026789</td>\n",
       "      <td>0.091614</td>\n",
       "      <td>-0.068355</td>\n",
       "      <td>-0.114395</td>\n",
       "      <td>-0.114395</td>\n",
       "    </tr>\n",
       "    <tr>\n",
       "      <th>CLASS TITLE</th>\n",
       "      <td>-0.178545</td>\n",
       "      <td>-0.150526</td>\n",
       "      <td>0.007079</td>\n",
       "      <td>0.004274</td>\n",
       "      <td>-0.027416</td>\n",
       "      <td>0.144373</td>\n",
       "      <td>1.000000</td>\n",
       "      <td>0.044255</td>\n",
       "      <td>0.060309</td>\n",
       "      <td>0.009949</td>\n",
       "      <td>0.005406</td>\n",
       "      <td>0.014504</td>\n",
       "      <td>0.011968</td>\n",
       "      <td>0.133929</td>\n",
       "      <td>0.133929</td>\n",
       "    </tr>\n",
       "    <tr>\n",
       "      <th>ETHNICITY</th>\n",
       "      <td>-0.034903</td>\n",
       "      <td>0.030906</td>\n",
       "      <td>-0.015361</td>\n",
       "      <td>0.013056</td>\n",
       "      <td>0.079420</td>\n",
       "      <td>-0.056818</td>\n",
       "      <td>0.044255</td>\n",
       "      <td>1.000000</td>\n",
       "      <td>0.106739</td>\n",
       "      <td>0.090649</td>\n",
       "      <td>-0.019934</td>\n",
       "      <td>0.051916</td>\n",
       "      <td>-0.023782</td>\n",
       "      <td>0.180034</td>\n",
       "      <td>0.180034</td>\n",
       "    </tr>\n",
       "    <tr>\n",
       "      <th>GENDER</th>\n",
       "      <td>0.093244</td>\n",
       "      <td>0.190787</td>\n",
       "      <td>-0.025838</td>\n",
       "      <td>-0.003985</td>\n",
       "      <td>0.018192</td>\n",
       "      <td>0.127360</td>\n",
       "      <td>0.060309</td>\n",
       "      <td>0.106739</td>\n",
       "      <td>1.000000</td>\n",
       "      <td>0.033160</td>\n",
       "      <td>-0.046540</td>\n",
       "      <td>0.041537</td>\n",
       "      <td>0.001952</td>\n",
       "      <td>0.136257</td>\n",
       "      <td>0.136257</td>\n",
       "    </tr>\n",
       "    <tr>\n",
       "      <th>STATUS</th>\n",
       "      <td>-0.276853</td>\n",
       "      <td>-0.009776</td>\n",
       "      <td>-0.004476</td>\n",
       "      <td>0.003681</td>\n",
       "      <td>0.016814</td>\n",
       "      <td>0.225200</td>\n",
       "      <td>0.009949</td>\n",
       "      <td>0.090649</td>\n",
       "      <td>0.033160</td>\n",
       "      <td>1.000000</td>\n",
       "      <td>-0.062061</td>\n",
       "      <td>0.388160</td>\n",
       "      <td>-0.306624</td>\n",
       "      <td>0.112454</td>\n",
       "      <td>0.112454</td>\n",
       "    </tr>\n",
       "    <tr>\n",
       "      <th>EMPLOY DATE</th>\n",
       "      <td>0.033668</td>\n",
       "      <td>0.004909</td>\n",
       "      <td>0.010584</td>\n",
       "      <td>0.000403</td>\n",
       "      <td>0.006070</td>\n",
       "      <td>-0.026789</td>\n",
       "      <td>0.005406</td>\n",
       "      <td>-0.019934</td>\n",
       "      <td>-0.046540</td>\n",
       "      <td>-0.062061</td>\n",
       "      <td>1.000000</td>\n",
       "      <td>-0.036781</td>\n",
       "      <td>0.007244</td>\n",
       "      <td>-0.039892</td>\n",
       "      <td>-0.039892</td>\n",
       "    </tr>\n",
       "    <tr>\n",
       "      <th>HRLY RATE</th>\n",
       "      <td>-0.083653</td>\n",
       "      <td>-0.054441</td>\n",
       "      <td>0.003607</td>\n",
       "      <td>0.000821</td>\n",
       "      <td>-0.001218</td>\n",
       "      <td>0.091614</td>\n",
       "      <td>0.014504</td>\n",
       "      <td>0.051916</td>\n",
       "      <td>0.041537</td>\n",
       "      <td>0.388160</td>\n",
       "      <td>-0.036781</td>\n",
       "      <td>1.000000</td>\n",
       "      <td>-0.337784</td>\n",
       "      <td>0.071839</td>\n",
       "      <td>0.071839</td>\n",
       "    </tr>\n",
       "    <tr>\n",
       "      <th>HRS PER WK</th>\n",
       "      <td>-0.013847</td>\n",
       "      <td>-0.012687</td>\n",
       "      <td>-0.000765</td>\n",
       "      <td>0.004470</td>\n",
       "      <td>-0.009290</td>\n",
       "      <td>-0.068355</td>\n",
       "      <td>0.011968</td>\n",
       "      <td>-0.023782</td>\n",
       "      <td>0.001952</td>\n",
       "      <td>-0.306624</td>\n",
       "      <td>0.007244</td>\n",
       "      <td>-0.337784</td>\n",
       "      <td>1.000000</td>\n",
       "      <td>0.132252</td>\n",
       "      <td>0.132252</td>\n",
       "    </tr>\n",
       "    <tr>\n",
       "      <th>MONTHLY</th>\n",
       "      <td>-0.265486</td>\n",
       "      <td>-0.085328</td>\n",
       "      <td>0.010130</td>\n",
       "      <td>0.009090</td>\n",
       "      <td>0.015367</td>\n",
       "      <td>-0.114395</td>\n",
       "      <td>0.133929</td>\n",
       "      <td>0.180034</td>\n",
       "      <td>0.136257</td>\n",
       "      <td>0.112454</td>\n",
       "      <td>-0.039892</td>\n",
       "      <td>0.071839</td>\n",
       "      <td>0.132252</td>\n",
       "      <td>1.000000</td>\n",
       "      <td>1.000000</td>\n",
       "    </tr>\n",
       "    <tr>\n",
       "      <th>ANNUAL</th>\n",
       "      <td>-0.265486</td>\n",
       "      <td>-0.085328</td>\n",
       "      <td>0.010130</td>\n",
       "      <td>0.009090</td>\n",
       "      <td>0.015367</td>\n",
       "      <td>-0.114395</td>\n",
       "      <td>0.133929</td>\n",
       "      <td>0.180034</td>\n",
       "      <td>0.136257</td>\n",
       "      <td>0.112454</td>\n",
       "      <td>-0.039892</td>\n",
       "      <td>0.071839</td>\n",
       "      <td>0.132252</td>\n",
       "      <td>1.000000</td>\n",
       "      <td>1.000000</td>\n",
       "    </tr>\n",
       "  </tbody>\n",
       "</table>\n",
       "</div>"
      ],
      "text/plain": [
       "               AGENCY  AGENCY NAME  FIRST NAME  LAST NAME        MI  \\\n",
       "AGENCY       1.000000     0.434667   -0.005441  -0.012039  0.089050   \n",
       "AGENCY NAME  0.434667     1.000000   -0.003461  -0.003935 -0.000053   \n",
       "FIRST NAME  -0.005441    -0.003461    1.000000   0.009045 -0.005113   \n",
       "LAST NAME   -0.012039    -0.003935    0.009045   1.000000  0.006241   \n",
       "MI           0.089050    -0.000053   -0.005113   0.006241  1.000000   \n",
       "CLASS CODE   0.068594    -0.052702   -0.015143  -0.002381  0.032279   \n",
       "CLASS TITLE -0.178545    -0.150526    0.007079   0.004274 -0.027416   \n",
       "ETHNICITY   -0.034903     0.030906   -0.015361   0.013056  0.079420   \n",
       "GENDER       0.093244     0.190787   -0.025838  -0.003985  0.018192   \n",
       "STATUS      -0.276853    -0.009776   -0.004476   0.003681  0.016814   \n",
       "EMPLOY DATE  0.033668     0.004909    0.010584   0.000403  0.006070   \n",
       "HRLY RATE   -0.083653    -0.054441    0.003607   0.000821 -0.001218   \n",
       "HRS PER WK  -0.013847    -0.012687   -0.000765   0.004470 -0.009290   \n",
       "MONTHLY     -0.265486    -0.085328    0.010130   0.009090  0.015367   \n",
       "ANNUAL      -0.265486    -0.085328    0.010130   0.009090  0.015367   \n",
       "\n",
       "             CLASS CODE  CLASS TITLE  ETHNICITY    GENDER    STATUS  \\\n",
       "AGENCY         0.068594    -0.178545  -0.034903  0.093244 -0.276853   \n",
       "AGENCY NAME   -0.052702    -0.150526   0.030906  0.190787 -0.009776   \n",
       "FIRST NAME    -0.015143     0.007079  -0.015361 -0.025838 -0.004476   \n",
       "LAST NAME     -0.002381     0.004274   0.013056 -0.003985  0.003681   \n",
       "MI             0.032279    -0.027416   0.079420  0.018192  0.016814   \n",
       "CLASS CODE     1.000000     0.144373  -0.056818  0.127360  0.225200   \n",
       "CLASS TITLE    0.144373     1.000000   0.044255  0.060309  0.009949   \n",
       "ETHNICITY     -0.056818     0.044255   1.000000  0.106739  0.090649   \n",
       "GENDER         0.127360     0.060309   0.106739  1.000000  0.033160   \n",
       "STATUS         0.225200     0.009949   0.090649  0.033160  1.000000   \n",
       "EMPLOY DATE   -0.026789     0.005406  -0.019934 -0.046540 -0.062061   \n",
       "HRLY RATE      0.091614     0.014504   0.051916  0.041537  0.388160   \n",
       "HRS PER WK    -0.068355     0.011968  -0.023782  0.001952 -0.306624   \n",
       "MONTHLY       -0.114395     0.133929   0.180034  0.136257  0.112454   \n",
       "ANNUAL        -0.114395     0.133929   0.180034  0.136257  0.112454   \n",
       "\n",
       "             EMPLOY DATE  HRLY RATE  HRS PER WK   MONTHLY    ANNUAL  \n",
       "AGENCY          0.033668  -0.083653   -0.013847 -0.265486 -0.265486  \n",
       "AGENCY NAME     0.004909  -0.054441   -0.012687 -0.085328 -0.085328  \n",
       "FIRST NAME      0.010584   0.003607   -0.000765  0.010130  0.010130  \n",
       "LAST NAME       0.000403   0.000821    0.004470  0.009090  0.009090  \n",
       "MI              0.006070  -0.001218   -0.009290  0.015367  0.015367  \n",
       "CLASS CODE     -0.026789   0.091614   -0.068355 -0.114395 -0.114395  \n",
       "CLASS TITLE     0.005406   0.014504    0.011968  0.133929  0.133929  \n",
       "ETHNICITY      -0.019934   0.051916   -0.023782  0.180034  0.180034  \n",
       "GENDER         -0.046540   0.041537    0.001952  0.136257  0.136257  \n",
       "STATUS         -0.062061   0.388160   -0.306624  0.112454  0.112454  \n",
       "EMPLOY DATE     1.000000  -0.036781    0.007244 -0.039892 -0.039892  \n",
       "HRLY RATE      -0.036781   1.000000   -0.337784  0.071839  0.071839  \n",
       "HRS PER WK      0.007244  -0.337784    1.000000  0.132252  0.132252  \n",
       "MONTHLY        -0.039892   0.071839    0.132252  1.000000  1.000000  \n",
       "ANNUAL         -0.039892   0.071839    0.132252  1.000000  1.000000  "
      ]
     },
     "execution_count": 6,
     "metadata": {},
     "output_type": "execute_result"
    }
   ],
   "source": [
    "data.corr()"
   ]
  },
  {
   "cell_type": "markdown",
   "id": "56b90c84",
   "metadata": {},
   "source": [
    "###### we represented the correlation in values"
   ]
  },
  {
   "cell_type": "code",
   "execution_count": 7,
   "id": "4dc8a654",
   "metadata": {},
   "outputs": [
    {
     "data": {
      "image/png": "[encoded data removed]",
      "text/plain": [
       "<Figure size 1600x600 with 2 Axes>"
      ]
     },
     "metadata": {},
     "output_type": "display_data"
    }
   ],
   "source": [
    "plt.figure(figsize=(16,6))\n",
    "sns.heatmap(data.corr(),annot=True)\n",
    "plt.show()"
   ]
  },
  {
   "cell_type": "markdown",
   "id": "445c6e56",
   "metadata": {},
   "source": [
    "###### 'Monthly' and 'Annual' having  postivite correlation.so,we can drop any one of the column,now we are dropping 'Monthly'\n",
    "###### 'Hrs per wk' and 'Status' having strong negative correlation\n",
    "###### 'Monthly','Annual' and 'Agency' having strong negative correlation\n",
    "###### 'Agency Name' and 'Agency' having positive correlation\n",
    "###### 'Status' and 'Hrly Rate' having positive correlation"
   ]
  },
  {
   "cell_type": "code",
   "execution_count": 8,
   "id": "968f0429",
   "metadata": {},
   "outputs": [],
   "source": [
    "data.drop(['MONTHLY'],axis=1,inplace=True)"
   ]
  },
  {
   "cell_type": "markdown",
   "id": "9ad95d10",
   "metadata": {},
   "source": [
    "###### As we are having postive correlation on both column i.e; 'Monthly' and 'Annual',we are dropping 'Monthly' column here"
   ]
  },
  {
   "cell_type": "code",
   "execution_count": 9,
   "id": "ee1c6539",
   "metadata": {},
   "outputs": [
    {
     "data": {
      "text/plain": [
       "14"
      ]
     },
     "execution_count": 9,
     "metadata": {},
     "output_type": "execute_result"
    }
   ],
   "source": [
    "len(data.columns)"
   ]
  },
  {
   "cell_type": "markdown",
   "id": "16d65e11",
   "metadata": {},
   "source": [
    "##### In Total we are havinfg 14 columns"
   ]
  },
  {
   "cell_type": "code",
   "execution_count": 10,
   "id": "d9279ba0",
   "metadata": {},
   "outputs": [
    {
     "data": {
      "text/html": [
       "<div>\n",
       "<style scoped>\n",
       "    .dataframe tbody tr th:only-of-type {\n",
       "        vertical-align: middle;\n",
       "    }\n",
       "\n",
       "    .dataframe tbody tr th {\n",
       "        vertical-align: top;\n",
       "    }\n",
       "\n",
       "    .dataframe thead th {\n",
       "        text-align: right;\n",
       "    }\n",
       "</style>\n",
       "<table border=\"1\" class=\"dataframe\">\n",
       "  <thead>\n",
       "    <tr style=\"text-align: right;\">\n",
       "      <th></th>\n",
       "      <th></th>\n",
       "      <th></th>\n",
       "      <th>ANNUAL</th>\n",
       "    </tr>\n",
       "    <tr>\n",
       "      <th>AGENCY NAME</th>\n",
       "      <th>CLASS TITLE</th>\n",
       "      <th>STATUS</th>\n",
       "      <th></th>\n",
       "    </tr>\n",
       "  </thead>\n",
       "  <tbody>\n",
       "    <tr>\n",
       "      <th rowspan=\"5\" valign=\"top\">0.0</th>\n",
       "      <th>0.011963</th>\n",
       "      <th>0.0</th>\n",
       "      <td>39263.52</td>\n",
       "    </tr>\n",
       "    <tr>\n",
       "      <th>0.012667</th>\n",
       "      <th>0.0</th>\n",
       "      <td>42500.04</td>\n",
       "    </tr>\n",
       "    <tr>\n",
       "      <th>0.014075</th>\n",
       "      <th>0.0</th>\n",
       "      <td>51000.00</td>\n",
       "    </tr>\n",
       "    <tr>\n",
       "      <th>0.015482</th>\n",
       "      <th>0.0</th>\n",
       "      <td>63543.48</td>\n",
       "    </tr>\n",
       "    <tr>\n",
       "      <th>0.019001</th>\n",
       "      <th>0.0</th>\n",
       "      <td>36000.00</td>\n",
       "    </tr>\n",
       "    <tr>\n",
       "      <th>...</th>\n",
       "      <th>...</th>\n",
       "      <th>...</th>\n",
       "      <td>...</td>\n",
       "    </tr>\n",
       "    <tr>\n",
       "      <th rowspan=\"5\" valign=\"top\">1.0</th>\n",
       "      <th>0.914145</th>\n",
       "      <th>0.0</th>\n",
       "      <td>91617.18</td>\n",
       "    </tr>\n",
       "    <tr>\n",
       "      <th>0.916256</th>\n",
       "      <th>0.0</th>\n",
       "      <td>48000.00</td>\n",
       "    </tr>\n",
       "    <tr>\n",
       "      <th>0.916960</th>\n",
       "      <th>0.0</th>\n",
       "      <td>52722.36</td>\n",
       "    </tr>\n",
       "    <tr>\n",
       "      <th>0.988037</th>\n",
       "      <th>0.0</th>\n",
       "      <td>72381.12</td>\n",
       "    </tr>\n",
       "    <tr>\n",
       "      <th>0.989444</th>\n",
       "      <th>0.0</th>\n",
       "      <td>87178.08</td>\n",
       "    </tr>\n",
       "  </tbody>\n",
       "</table>\n",
       "<p>7700 rows × 1 columns</p>\n",
       "</div>"
      ],
      "text/plain": [
       "                                  ANNUAL\n",
       "AGENCY NAME CLASS TITLE STATUS          \n",
       "0.0         0.011963    0.0     39263.52\n",
       "            0.012667    0.0     42500.04\n",
       "            0.014075    0.0     51000.00\n",
       "            0.015482    0.0     63543.48\n",
       "            0.019001    0.0     36000.00\n",
       "...                                  ...\n",
       "1.0         0.914145    0.0     91617.18\n",
       "            0.916256    0.0     48000.00\n",
       "            0.916960    0.0     52722.36\n",
       "            0.988037    0.0     72381.12\n",
       "            0.989444    0.0     87178.08\n",
       "\n",
       "[7700 rows x 1 columns]"
      ]
     },
     "execution_count": 10,
     "metadata": {},
     "output_type": "execute_result"
    }
   ],
   "source": [
    "pd.pivot_table(data,index=['AGENCY NAME','CLASS TITLE','STATUS'],values='ANNUAL')"
   ]
  },
  {
   "cell_type": "code",
   "execution_count": 11,
   "id": "1eafece7",
   "metadata": {},
   "outputs": [
    {
     "data": {
      "text/html": [
       "<div>\n",
       "<style scoped>\n",
       "    .dataframe tbody tr th:only-of-type {\n",
       "        vertical-align: middle;\n",
       "    }\n",
       "\n",
       "    .dataframe tbody tr th {\n",
       "        vertical-align: top;\n",
       "    }\n",
       "\n",
       "    .dataframe thead th {\n",
       "        text-align: right;\n",
       "    }\n",
       "</style>\n",
       "<table border=\"1\" class=\"dataframe\">\n",
       "  <thead>\n",
       "    <tr style=\"text-align: right;\">\n",
       "      <th></th>\n",
       "      <th>AGENCY</th>\n",
       "      <th>AGENCY NAME</th>\n",
       "      <th>FIRST NAME</th>\n",
       "      <th>LAST NAME</th>\n",
       "      <th>MI</th>\n",
       "      <th>CLASS CODE</th>\n",
       "      <th>CLASS TITLE</th>\n",
       "      <th>ETHNICITY</th>\n",
       "      <th>GENDER</th>\n",
       "      <th>STATUS</th>\n",
       "      <th>EMPLOY DATE</th>\n",
       "      <th>HRLY RATE</th>\n",
       "      <th>HRS PER WK</th>\n",
       "      <th>ANNUAL</th>\n",
       "    </tr>\n",
       "  </thead>\n",
       "  <tbody>\n",
       "    <tr>\n",
       "      <th>0</th>\n",
       "      <td>0.168878</td>\n",
       "      <td>0.151786</td>\n",
       "      <td>0.648357</td>\n",
       "      <td>0.787635</td>\n",
       "      <td>0.846154</td>\n",
       "      <td>0.952027</td>\n",
       "      <td>0.500352</td>\n",
       "      <td>1.0</td>\n",
       "      <td>1.0</td>\n",
       "      <td>0.8</td>\n",
       "      <td>0.150461</td>\n",
       "      <td>0.644898</td>\n",
       "      <td>0.405797</td>\n",
       "      <td>91617.18</td>\n",
       "    </tr>\n",
       "    <tr>\n",
       "      <th>143707</th>\n",
       "      <td>0.249698</td>\n",
       "      <td>0.633929</td>\n",
       "      <td>0.445114</td>\n",
       "      <td>0.363681</td>\n",
       "      <td>0.307692</td>\n",
       "      <td>0.949324</td>\n",
       "      <td>0.468684</td>\n",
       "      <td>1.0</td>\n",
       "      <td>1.0</td>\n",
       "      <td>0.7</td>\n",
       "      <td>0.872100</td>\n",
       "      <td>0.000000</td>\n",
       "      <td>0.565217</td>\n",
       "      <td>91617.18</td>\n",
       "    </tr>\n",
       "    <tr>\n",
       "      <th>95849</th>\n",
       "      <td>0.603136</td>\n",
       "      <td>0.812500</td>\n",
       "      <td>0.297563</td>\n",
       "      <td>0.910844</td>\n",
       "      <td>0.076923</td>\n",
       "      <td>0.202027</td>\n",
       "      <td>0.280788</td>\n",
       "      <td>0.6</td>\n",
       "      <td>1.0</td>\n",
       "      <td>0.0</td>\n",
       "      <td>0.385446</td>\n",
       "      <td>0.000000</td>\n",
       "      <td>0.565217</td>\n",
       "      <td>91617.18</td>\n",
       "    </tr>\n",
       "    <tr>\n",
       "      <th>6591</th>\n",
       "      <td>0.242461</td>\n",
       "      <td>0.482143</td>\n",
       "      <td>0.232915</td>\n",
       "      <td>0.954595</td>\n",
       "      <td>0.692308</td>\n",
       "      <td>0.197297</td>\n",
       "      <td>0.601689</td>\n",
       "      <td>1.0</td>\n",
       "      <td>0.0</td>\n",
       "      <td>0.0</td>\n",
       "      <td>0.680013</td>\n",
       "      <td>0.000000</td>\n",
       "      <td>0.565217</td>\n",
       "      <td>91617.18</td>\n",
       "    </tr>\n",
       "    <tr>\n",
       "      <th>37109</th>\n",
       "      <td>0.516285</td>\n",
       "      <td>0.357143</td>\n",
       "      <td>0.732872</td>\n",
       "      <td>0.171278</td>\n",
       "      <td>0.730769</td>\n",
       "      <td>0.533108</td>\n",
       "      <td>0.256158</td>\n",
       "      <td>0.2</td>\n",
       "      <td>0.0</td>\n",
       "      <td>0.0</td>\n",
       "      <td>0.809183</td>\n",
       "      <td>0.000000</td>\n",
       "      <td>0.565217</td>\n",
       "      <td>91617.18</td>\n",
       "    </tr>\n",
       "    <tr>\n",
       "      <th>...</th>\n",
       "      <td>...</td>\n",
       "      <td>...</td>\n",
       "      <td>...</td>\n",
       "      <td>...</td>\n",
       "      <td>...</td>\n",
       "      <td>...</td>\n",
       "      <td>...</td>\n",
       "      <td>...</td>\n",
       "      <td>...</td>\n",
       "      <td>...</td>\n",
       "      <td>...</td>\n",
       "      <td>...</td>\n",
       "      <td>...</td>\n",
       "      <td>...</td>\n",
       "    </tr>\n",
       "    <tr>\n",
       "      <th>142311</th>\n",
       "      <td>0.001206</td>\n",
       "      <td>0.375000</td>\n",
       "      <td>0.614441</td>\n",
       "      <td>0.760071</td>\n",
       "      <td>0.307692</td>\n",
       "      <td>0.731081</td>\n",
       "      <td>0.311049</td>\n",
       "      <td>1.0</td>\n",
       "      <td>1.0</td>\n",
       "      <td>0.8</td>\n",
       "      <td>0.012393</td>\n",
       "      <td>0.000000</td>\n",
       "      <td>0.072464</td>\n",
       "      <td>3010.62</td>\n",
       "    </tr>\n",
       "    <tr>\n",
       "      <th>141415</th>\n",
       "      <td>0.000000</td>\n",
       "      <td>0.598214</td>\n",
       "      <td>0.732830</td>\n",
       "      <td>0.312174</td>\n",
       "      <td>0.153846</td>\n",
       "      <td>0.726351</td>\n",
       "      <td>0.528501</td>\n",
       "      <td>0.8</td>\n",
       "      <td>0.0</td>\n",
       "      <td>1.0</td>\n",
       "      <td>0.934541</td>\n",
       "      <td>0.169796</td>\n",
       "      <td>0.000000</td>\n",
       "      <td>3010.62</td>\n",
       "    </tr>\n",
       "    <tr>\n",
       "      <th>142067</th>\n",
       "      <td>0.001206</td>\n",
       "      <td>0.375000</td>\n",
       "      <td>0.255242</td>\n",
       "      <td>0.418291</td>\n",
       "      <td>0.153846</td>\n",
       "      <td>0.731081</td>\n",
       "      <td>0.311049</td>\n",
       "      <td>0.4</td>\n",
       "      <td>1.0</td>\n",
       "      <td>0.8</td>\n",
       "      <td>0.341913</td>\n",
       "      <td>0.000000</td>\n",
       "      <td>0.130435</td>\n",
       "      <td>3010.62</td>\n",
       "    </tr>\n",
       "    <tr>\n",
       "      <th>142316</th>\n",
       "      <td>0.001206</td>\n",
       "      <td>0.375000</td>\n",
       "      <td>0.371254</td>\n",
       "      <td>0.764571</td>\n",
       "      <td>0.500000</td>\n",
       "      <td>0.731081</td>\n",
       "      <td>0.311049</td>\n",
       "      <td>0.6</td>\n",
       "      <td>0.0</td>\n",
       "      <td>0.7</td>\n",
       "      <td>0.849063</td>\n",
       "      <td>0.000000</td>\n",
       "      <td>0.565217</td>\n",
       "      <td>3010.62</td>\n",
       "    </tr>\n",
       "    <tr>\n",
       "      <th>141394</th>\n",
       "      <td>0.000000</td>\n",
       "      <td>0.598214</td>\n",
       "      <td>0.258468</td>\n",
       "      <td>0.268966</td>\n",
       "      <td>0.000000</td>\n",
       "      <td>0.726351</td>\n",
       "      <td>0.528501</td>\n",
       "      <td>1.0</td>\n",
       "      <td>1.0</td>\n",
       "      <td>1.0</td>\n",
       "      <td>0.103591</td>\n",
       "      <td>0.169796</td>\n",
       "      <td>0.000000</td>\n",
       "      <td>3010.62</td>\n",
       "    </tr>\n",
       "  </tbody>\n",
       "</table>\n",
       "<p>149481 rows × 14 columns</p>\n",
       "</div>"
      ],
      "text/plain": [
       "          AGENCY  AGENCY NAME  FIRST NAME  LAST NAME        MI  CLASS CODE  \\\n",
       "0       0.168878     0.151786    0.648357   0.787635  0.846154    0.952027   \n",
       "143707  0.249698     0.633929    0.445114   0.363681  0.307692    0.949324   \n",
       "95849   0.603136     0.812500    0.297563   0.910844  0.076923    0.202027   \n",
       "6591    0.242461     0.482143    0.232915   0.954595  0.692308    0.197297   \n",
       "37109   0.516285     0.357143    0.732872   0.171278  0.730769    0.533108   \n",
       "...          ...          ...         ...        ...       ...         ...   \n",
       "142311  0.001206     0.375000    0.614441   0.760071  0.307692    0.731081   \n",
       "141415  0.000000     0.598214    0.732830   0.312174  0.153846    0.726351   \n",
       "142067  0.001206     0.375000    0.255242   0.418291  0.153846    0.731081   \n",
       "142316  0.001206     0.375000    0.371254   0.764571  0.500000    0.731081   \n",
       "141394  0.000000     0.598214    0.258468   0.268966  0.000000    0.726351   \n",
       "\n",
       "        CLASS TITLE  ETHNICITY  GENDER  STATUS  EMPLOY DATE  HRLY RATE  \\\n",
       "0          0.500352        1.0     1.0     0.8     0.150461   0.644898   \n",
       "143707     0.468684        1.0     1.0     0.7     0.872100   0.000000   \n",
       "95849      0.280788        0.6     1.0     0.0     0.385446   0.000000   \n",
       "6591       0.601689        1.0     0.0     0.0     0.680013   0.000000   \n",
       "37109      0.256158        0.2     0.0     0.0     0.809183   0.000000   \n",
       "...             ...        ...     ...     ...          ...        ...   \n",
       "142311     0.311049        1.0     1.0     0.8     0.012393   0.000000   \n",
       "141415     0.528501        0.8     0.0     1.0     0.934541   0.169796   \n",
       "142067     0.311049        0.4     1.0     0.8     0.341913   0.000000   \n",
       "142316     0.311049        0.6     0.0     0.7     0.849063   0.000000   \n",
       "141394     0.528501        1.0     1.0     1.0     0.103591   0.169796   \n",
       "\n",
       "        HRS PER WK    ANNUAL  \n",
       "0         0.405797  91617.18  \n",
       "143707    0.565217  91617.18  \n",
       "95849     0.565217  91617.18  \n",
       "6591      0.565217  91617.18  \n",
       "37109     0.565217  91617.18  \n",
       "...            ...       ...  \n",
       "142311    0.072464   3010.62  \n",
       "141415    0.000000   3010.62  \n",
       "142067    0.130435   3010.62  \n",
       "142316    0.565217   3010.62  \n",
       "141394    0.000000   3010.62  \n",
       "\n",
       "[149481 rows x 14 columns]"
      ]
     },
     "execution_count": 11,
     "metadata": {},
     "output_type": "execute_result"
    }
   ],
   "source": [
    "data.sort_values('ANNUAL',ascending=False)"
   ]
  },
  {
   "cell_type": "code",
   "execution_count": 12,
   "id": "149441cf",
   "metadata": {},
   "outputs": [],
   "source": [
    "x=data.loc[:,:'HRS PER WK']\n",
    "y=data.loc[:,'ANNUAL']"
   ]
  },
  {
   "cell_type": "markdown",
   "id": "9cc884f5",
   "metadata": {},
   "source": [
    "###### we seperated all the columns for Training and testing \n",
    "###### In x we are having all the features expect the Target column\n",
    "###### in y we are having only the Target column('ANNUAL')"
   ]
  },
  {
   "cell_type": "code",
   "execution_count": 14,
   "id": "3f920c69",
   "metadata": {},
   "outputs": [
    {
     "data": {
      "text/html": [
       "<div>\n",
       "<style scoped>\n",
       "    .dataframe tbody tr th:only-of-type {\n",
       "        vertical-align: middle;\n",
       "    }\n",
       "\n",
       "    .dataframe tbody tr th {\n",
       "        vertical-align: top;\n",
       "    }\n",
       "\n",
       "    .dataframe thead th {\n",
       "        text-align: right;\n",
       "    }\n",
       "</style>\n",
       "<table border=\"1\" class=\"dataframe\">\n",
       "  <thead>\n",
       "    <tr style=\"text-align: right;\">\n",
       "      <th></th>\n",
       "      <th>AGENCY</th>\n",
       "      <th>AGENCY NAME</th>\n",
       "      <th>FIRST NAME</th>\n",
       "      <th>LAST NAME</th>\n",
       "      <th>MI</th>\n",
       "      <th>CLASS CODE</th>\n",
       "      <th>CLASS TITLE</th>\n",
       "      <th>ETHNICITY</th>\n",
       "      <th>GENDER</th>\n",
       "      <th>STATUS</th>\n",
       "      <th>EMPLOY DATE</th>\n",
       "      <th>HRLY RATE</th>\n",
       "      <th>HRS PER WK</th>\n",
       "    </tr>\n",
       "  </thead>\n",
       "  <tbody>\n",
       "    <tr>\n",
       "      <th>0</th>\n",
       "      <td>0.168878</td>\n",
       "      <td>0.151786</td>\n",
       "      <td>0.648357</td>\n",
       "      <td>0.787635</td>\n",
       "      <td>0.846154</td>\n",
       "      <td>0.952027</td>\n",
       "      <td>0.500352</td>\n",
       "      <td>1.0</td>\n",
       "      <td>1.0</td>\n",
       "      <td>0.8</td>\n",
       "      <td>0.150461</td>\n",
       "      <td>0.644898</td>\n",
       "      <td>0.405797</td>\n",
       "    </tr>\n",
       "    <tr>\n",
       "      <th>1</th>\n",
       "      <td>0.133896</td>\n",
       "      <td>0.428571</td>\n",
       "      <td>0.648357</td>\n",
       "      <td>0.787635</td>\n",
       "      <td>0.846154</td>\n",
       "      <td>0.416216</td>\n",
       "      <td>0.394089</td>\n",
       "      <td>1.0</td>\n",
       "      <td>1.0</td>\n",
       "      <td>0.4</td>\n",
       "      <td>0.096123</td>\n",
       "      <td>0.688051</td>\n",
       "      <td>0.043478</td>\n",
       "    </tr>\n",
       "    <tr>\n",
       "      <th>2</th>\n",
       "      <td>0.168878</td>\n",
       "      <td>0.151786</td>\n",
       "      <td>0.426734</td>\n",
       "      <td>0.858380</td>\n",
       "      <td>0.384615</td>\n",
       "      <td>0.952027</td>\n",
       "      <td>0.500352</td>\n",
       "      <td>1.0</td>\n",
       "      <td>1.0</td>\n",
       "      <td>0.8</td>\n",
       "      <td>0.096918</td>\n",
       "      <td>0.644898</td>\n",
       "      <td>0.405797</td>\n",
       "    </tr>\n",
       "    <tr>\n",
       "      <th>3</th>\n",
       "      <td>0.133896</td>\n",
       "      <td>0.428571</td>\n",
       "      <td>0.426734</td>\n",
       "      <td>0.858380</td>\n",
       "      <td>0.384615</td>\n",
       "      <td>0.416216</td>\n",
       "      <td>0.394089</td>\n",
       "      <td>1.0</td>\n",
       "      <td>1.0</td>\n",
       "      <td>0.4</td>\n",
       "      <td>0.678106</td>\n",
       "      <td>0.688051</td>\n",
       "      <td>0.043478</td>\n",
       "    </tr>\n",
       "    <tr>\n",
       "      <th>4</th>\n",
       "      <td>0.717732</td>\n",
       "      <td>0.785714</td>\n",
       "      <td>0.295144</td>\n",
       "      <td>0.684232</td>\n",
       "      <td>0.000000</td>\n",
       "      <td>0.547297</td>\n",
       "      <td>0.205489</td>\n",
       "      <td>0.6</td>\n",
       "      <td>0.0</td>\n",
       "      <td>0.0</td>\n",
       "      <td>0.509851</td>\n",
       "      <td>0.000000</td>\n",
       "      <td>0.565217</td>\n",
       "    </tr>\n",
       "    <tr>\n",
       "      <th>...</th>\n",
       "      <td>...</td>\n",
       "      <td>...</td>\n",
       "      <td>...</td>\n",
       "      <td>...</td>\n",
       "      <td>...</td>\n",
       "      <td>...</td>\n",
       "      <td>...</td>\n",
       "      <td>...</td>\n",
       "      <td>...</td>\n",
       "      <td>...</td>\n",
       "      <td>...</td>\n",
       "      <td>...</td>\n",
       "      <td>...</td>\n",
       "    </tr>\n",
       "    <tr>\n",
       "      <th>149476</th>\n",
       "      <td>0.854041</td>\n",
       "      <td>0.678571</td>\n",
       "      <td>0.426734</td>\n",
       "      <td>0.965894</td>\n",
       "      <td>0.615385</td>\n",
       "      <td>0.704054</td>\n",
       "      <td>0.843068</td>\n",
       "      <td>1.0</td>\n",
       "      <td>1.0</td>\n",
       "      <td>0.0</td>\n",
       "      <td>0.843343</td>\n",
       "      <td>0.000000</td>\n",
       "      <td>0.565217</td>\n",
       "    </tr>\n",
       "    <tr>\n",
       "      <th>149477</th>\n",
       "      <td>0.854041</td>\n",
       "      <td>0.678571</td>\n",
       "      <td>0.298158</td>\n",
       "      <td>0.976884</td>\n",
       "      <td>0.038462</td>\n",
       "      <td>0.056757</td>\n",
       "      <td>0.988037</td>\n",
       "      <td>1.0</td>\n",
       "      <td>0.0</td>\n",
       "      <td>0.0</td>\n",
       "      <td>0.547188</td>\n",
       "      <td>0.000000</td>\n",
       "      <td>0.565217</td>\n",
       "    </tr>\n",
       "    <tr>\n",
       "      <th>149478</th>\n",
       "      <td>0.854041</td>\n",
       "      <td>0.678571</td>\n",
       "      <td>0.236480</td>\n",
       "      <td>0.984331</td>\n",
       "      <td>0.115385</td>\n",
       "      <td>0.002703</td>\n",
       "      <td>0.228008</td>\n",
       "      <td>1.0</td>\n",
       "      <td>1.0</td>\n",
       "      <td>0.1</td>\n",
       "      <td>0.804258</td>\n",
       "      <td>0.109773</td>\n",
       "      <td>0.275362</td>\n",
       "    </tr>\n",
       "    <tr>\n",
       "      <th>149479</th>\n",
       "      <td>0.854041</td>\n",
       "      <td>0.678571</td>\n",
       "      <td>0.258468</td>\n",
       "      <td>0.990666</td>\n",
       "      <td>0.692308</td>\n",
       "      <td>0.187838</td>\n",
       "      <td>0.708656</td>\n",
       "      <td>1.0</td>\n",
       "      <td>1.0</td>\n",
       "      <td>0.0</td>\n",
       "      <td>0.743089</td>\n",
       "      <td>0.000000</td>\n",
       "      <td>0.565217</td>\n",
       "    </tr>\n",
       "    <tr>\n",
       "      <th>149480</th>\n",
       "      <td>0.854041</td>\n",
       "      <td>0.678571</td>\n",
       "      <td>0.327702</td>\n",
       "      <td>0.999431</td>\n",
       "      <td>0.615385</td>\n",
       "      <td>0.002703</td>\n",
       "      <td>0.228008</td>\n",
       "      <td>1.0</td>\n",
       "      <td>0.0</td>\n",
       "      <td>0.1</td>\n",
       "      <td>0.142676</td>\n",
       "      <td>0.099670</td>\n",
       "      <td>0.275362</td>\n",
       "    </tr>\n",
       "  </tbody>\n",
       "</table>\n",
       "<p>149481 rows × 13 columns</p>\n",
       "</div>"
      ],
      "text/plain": [
       "          AGENCY  AGENCY NAME  FIRST NAME  LAST NAME        MI  CLASS CODE  \\\n",
       "0       0.168878     0.151786    0.648357   0.787635  0.846154    0.952027   \n",
       "1       0.133896     0.428571    0.648357   0.787635  0.846154    0.416216   \n",
       "2       0.168878     0.151786    0.426734   0.858380  0.384615    0.952027   \n",
       "3       0.133896     0.428571    0.426734   0.858380  0.384615    0.416216   \n",
       "4       0.717732     0.785714    0.295144   0.684232  0.000000    0.547297   \n",
       "...          ...          ...         ...        ...       ...         ...   \n",
       "149476  0.854041     0.678571    0.426734   0.965894  0.615385    0.704054   \n",
       "149477  0.854041     0.678571    0.298158   0.976884  0.038462    0.056757   \n",
       "149478  0.854041     0.678571    0.236480   0.984331  0.115385    0.002703   \n",
       "149479  0.854041     0.678571    0.258468   0.990666  0.692308    0.187838   \n",
       "149480  0.854041     0.678571    0.327702   0.999431  0.615385    0.002703   \n",
       "\n",
       "        CLASS TITLE  ETHNICITY  GENDER  STATUS  EMPLOY DATE  HRLY RATE  \\\n",
       "0          0.500352        1.0     1.0     0.8     0.150461   0.644898   \n",
       "1          0.394089        1.0     1.0     0.4     0.096123   0.688051   \n",
       "2          0.500352        1.0     1.0     0.8     0.096918   0.644898   \n",
       "3          0.394089        1.0     1.0     0.4     0.678106   0.688051   \n",
       "4          0.205489        0.6     0.0     0.0     0.509851   0.000000   \n",
       "...             ...        ...     ...     ...          ...        ...   \n",
       "149476     0.843068        1.0     1.0     0.0     0.843343   0.000000   \n",
       "149477     0.988037        1.0     0.0     0.0     0.547188   0.000000   \n",
       "149478     0.228008        1.0     1.0     0.1     0.804258   0.109773   \n",
       "149479     0.708656        1.0     1.0     0.0     0.743089   0.000000   \n",
       "149480     0.228008        1.0     0.0     0.1     0.142676   0.099670   \n",
       "\n",
       "        HRS PER WK  \n",
       "0         0.405797  \n",
       "1         0.043478  \n",
       "2         0.405797  \n",
       "3         0.043478  \n",
       "4         0.565217  \n",
       "...            ...  \n",
       "149476    0.565217  \n",
       "149477    0.565217  \n",
       "149478    0.275362  \n",
       "149479    0.565217  \n",
       "149480    0.275362  \n",
       "\n",
       "[149481 rows x 13 columns]"
      ]
     },
     "execution_count": 14,
     "metadata": {},
     "output_type": "execute_result"
    }
   ],
   "source": [
    "x"
   ]
  },
  {
   "cell_type": "markdown",
   "id": "a6c48135",
   "metadata": {},
   "source": [
    "###### all the features expect the Target column"
   ]
  },
  {
   "cell_type": "code",
   "execution_count": 13,
   "id": "f4be4ffb",
   "metadata": {},
   "outputs": [
    {
     "data": {
      "text/plain": [
       "0         91617.18\n",
       "1         16857.24\n",
       "2         91617.18\n",
       "3         16857.24\n",
       "4         39411.24\n",
       "            ...   \n",
       "149476    34788.00\n",
       "149477    66000.00\n",
       "149478    13447.20\n",
       "149479    68929.92\n",
       "149480    12209.52\n",
       "Name: ANNUAL, Length: 149481, dtype: float64"
      ]
     },
     "execution_count": 13,
     "metadata": {},
     "output_type": "execute_result"
    }
   ],
   "source": [
    "y"
   ]
  },
  {
   "cell_type": "markdown",
   "id": "f804a666",
   "metadata": {},
   "source": [
    "###### only the Target column"
   ]
  },
  {
   "cell_type": "code",
   "execution_count": 15,
   "id": "22521708",
   "metadata": {},
   "outputs": [],
   "source": [
    "from sklearn.model_selection import train_test_split"
   ]
  },
  {
   "cell_type": "markdown",
   "id": "20408703",
   "metadata": {},
   "source": [
    "###### From model selection we imported train_test_split "
   ]
  },
  {
   "cell_type": "code",
   "execution_count": 16,
   "id": "627eea04",
   "metadata": {},
   "outputs": [],
   "source": [
    "x_train,x_test,y_train,y_test=train_test_split(x,y,test_size=0.60,random_state=100)"
   ]
  },
  {
   "cell_type": "markdown",
   "id": "46b07352",
   "metadata": {},
   "source": [
    "###### we splited 40% as a training data and 60% as a testing data "
   ]
  },
  {
   "cell_type": "code",
   "execution_count": 17,
   "id": "8a59d9e0",
   "metadata": {},
   "outputs": [],
   "source": [
    "from sklearn.linear_model import LinearRegression"
   ]
  },
  {
   "cell_type": "markdown",
   "id": "511a13b5",
   "metadata": {},
   "source": [
    "###### As our Target column having continous values we are using LinearRegression here"
   ]
  },
  {
   "cell_type": "code",
   "execution_count": 18,
   "id": "36c5285f",
   "metadata": {},
   "outputs": [],
   "source": [
    "lr_model=LinearRegression()"
   ]
  },
  {
   "cell_type": "markdown",
   "id": "de920f75",
   "metadata": {},
   "source": [
    "###### we called our model to fit our Training data"
   ]
  },
  {
   "cell_type": "code",
   "execution_count": 19,
   "id": "c483bb45",
   "metadata": {},
   "outputs": [
    {
     "data": {
      "text/html": [
       "<style>#sk-container-id-1 {color: black;background-color: white;}#sk-container-id-1 pre{padding: 0;}#sk-container-id-1 div.sk-toggleable {background-color: white;}#sk-container-id-1 label.sk-toggleable__label {cursor: pointer;display: block;width: 100%;margin-bottom: 0;padding: 0.3em;box-sizing: border-box;text-align: center;}#sk-container-id-1 label.sk-toggleable__label-arrow:before {content: \"▸\";float: left;margin-right: 0.25em;color: #696969;}#sk-container-id-1 label.sk-toggleable__label-arrow:hover:before {color: black;}#sk-container-id-1 div.sk-estimator:hover label.sk-toggleable__label-arrow:before {color: black;}#sk-container-id-1 div.sk-toggleable__content {max-height: 0;max-width: 0;overflow: hidden;text-align: left;background-color: #f0f8ff;}#sk-container-id-1 div.sk-toggleable__content pre {margin: 0.2em;color: black;border-radius: 0.25em;background-color: #f0f8ff;}#sk-container-id-1 input.sk-toggleable__control:checked~div.sk-toggleable__content {max-height: 200px;max-width: 100%;overflow: auto;}#sk-container-id-1 input.sk-toggleable__control:checked~label.sk-toggleable__label-arrow:before {content: \"▾\";}#sk-container-id-1 div.sk-estimator input.sk-toggleable__control:checked~label.sk-toggleable__label {background-color: #d4ebff;}#sk-container-id-1 div.sk-label input.sk-toggleable__control:checked~label.sk-toggleable__label {background-color: #d4ebff;}#sk-container-id-1 input.sk-hidden--visually {border: 0;clip: rect(1px 1px 1px 1px);clip: rect(1px, 1px, 1px, 1px);height: 1px;margin: -1px;overflow: hidden;padding: 0;position: absolute;width: 1px;}#sk-container-id-1 div.sk-estimator {font-family: monospace;background-color: #f0f8ff;border: 1px dotted black;border-radius: 0.25em;box-sizing: border-box;margin-bottom: 0.5em;}#sk-container-id-1 div.sk-estimator:hover {background-color: #d4ebff;}#sk-container-id-1 div.sk-parallel-item::after {content: \"\";width: 100%;border-bottom: 1px solid gray;flex-grow: 1;}#sk-container-id-1 div.sk-label:hover label.sk-toggleable__label {background-color: #d4ebff;}#sk-container-id-1 div.sk-serial::before {content: \"\";position: absolute;border-left: 1px solid gray;box-sizing: border-box;top: 0;bottom: 0;left: 50%;z-index: 0;}#sk-container-id-1 div.sk-serial {display: flex;flex-direction: column;align-items: center;background-color: white;padding-right: 0.2em;padding-left: 0.2em;position: relative;}#sk-container-id-1 div.sk-item {position: relative;z-index: 1;}#sk-container-id-1 div.sk-parallel {display: flex;align-items: stretch;justify-content: center;background-color: white;position: relative;}#sk-container-id-1 div.sk-item::before, #sk-container-id-1 div.sk-parallel-item::before {content: \"\";position: absolute;border-left: 1px solid gray;box-sizing: border-box;top: 0;bottom: 0;left: 50%;z-index: -1;}#sk-container-id-1 div.sk-parallel-item {display: flex;flex-direction: column;z-index: 1;position: relative;background-color: white;}#sk-container-id-1 div.sk-parallel-item:first-child::after {align-self: flex-end;width: 50%;}#sk-container-id-1 div.sk-parallel-item:last-child::after {align-self: flex-start;width: 50%;}#sk-container-id-1 div.sk-parallel-item:only-child::after {width: 0;}#sk-container-id-1 div.sk-dashed-wrapped {border: 1px dashed gray;margin: 0 0.4em 0.5em 0.4em;box-sizing: border-box;padding-bottom: 0.4em;background-color: white;}#sk-container-id-1 div.sk-label label {font-family: monospace;font-weight: bold;display: inline-block;line-height: 1.2em;}#sk-container-id-1 div.sk-label-container {text-align: center;}#sk-container-id-1 div.sk-container {/* jupyter's `normalize.less` sets `[hidden] { display: none; }` but bootstrap.min.css set `[hidden] { display: none !important; }` so we also need the `!important` here to be able to override the default hidden behavior on the sphinx rendered scikit-learn.org. See: https://github.com/scikit-learn/scikit-learn/issues/21755 */display: inline-block !important;position: relative;}#sk-container-id-1 div.sk-text-repr-fallback {display: none;}</style><div id=\"sk-container-id-1\" class=\"sk-top-container\"><div class=\"sk-text-repr-fallback\"><pre>LinearRegression()</pre><b>In a Jupyter environment, please rerun this cell to show the HTML representation or trust the notebook. <br />On GitHub, the HTML representation is unable to render, please try loading this page with nbviewer.org.</b></div><div class=\"sk-container\" hidden><div class=\"sk-item\"><div class=\"sk-estimator sk-toggleable\"><input class=\"sk-toggleable__control sk-hidden--visually\" id=\"sk-estimator-id-1\" type=\"checkbox\" checked><label for=\"sk-estimator-id-1\" class=\"sk-toggleable__label sk-toggleable__label-arrow\">LinearRegression</label><div class=\"sk-toggleable__content\"><pre>LinearRegression()</pre></div></div></div></div></div>"
      ],
      "text/plain": [
       "LinearRegression()"
      ]
     },
     "execution_count": 19,
     "metadata": {},
     "output_type": "execute_result"
    }
   ],
   "source": [
    "lr_model.fit(x_train,y_train)"
   ]
  },
  {
   "cell_type": "markdown",
   "id": "8cb6fbcb",
   "metadata": {},
   "source": [
    "###### we fitted our Training data "
   ]
  },
  {
   "cell_type": "code",
   "execution_count": 20,
   "id": "ed08fcea",
   "metadata": {},
   "outputs": [],
   "source": [
    "y_pred=lr_model.predict(x_test)"
   ]
  },
  {
   "cell_type": "markdown",
   "id": "56dfede1",
   "metadata": {},
   "source": [
    "###### we predicting the data with LinearRegression model"
   ]
  },
  {
   "cell_type": "code",
   "execution_count": 21,
   "id": "1adc80ae",
   "metadata": {},
   "outputs": [
    {
     "data": {
      "text/plain": [
       "array([43239.19345513, 43132.66818657, 49588.06138024, ...,\n",
       "       41553.59295172, 51890.82934266, 74709.42032296])"
      ]
     },
     "execution_count": 21,
     "metadata": {},
     "output_type": "execute_result"
    }
   ],
   "source": [
    "y_pred"
   ]
  },
  {
   "cell_type": "code",
   "execution_count": 22,
   "id": "2305f957",
   "metadata": {},
   "outputs": [],
   "source": [
    "from sklearn.metrics import r2_score,mean_squared_error,mean_absolute_error"
   ]
  },
  {
   "cell_type": "markdown",
   "id": "8d127cb0",
   "metadata": {},
   "source": [
    "###### we are importing some metrics to calculate the accuracy score"
   ]
  },
  {
   "cell_type": "code",
   "execution_count": 23,
   "id": "4163083f",
   "metadata": {},
   "outputs": [],
   "source": [
    "rsc=r2_score(y_test,y_pred)"
   ]
  },
  {
   "cell_type": "code",
   "execution_count": 24,
   "id": "bf624e77",
   "metadata": {
    "scrolled": true
   },
   "outputs": [
    {
     "name": "stdout",
     "output_type": "stream",
     "text": [
      "0.17114759348977915\n"
     ]
    }
   ],
   "source": [
    "print(rsc)"
   ]
  },
  {
   "cell_type": "markdown",
   "id": "45140990",
   "metadata": {},
   "source": [
    "###### As we are getting we less accuracy,we ensure that this is not our appropirate model"
   ]
  },
  {
   "cell_type": "code",
   "execution_count": 25,
   "id": "c032bf44",
   "metadata": {},
   "outputs": [
    {
     "data": {
      "text/plain": [
       "286472908.1824738"
      ]
     },
     "execution_count": 25,
     "metadata": {},
     "output_type": "execute_result"
    }
   ],
   "source": [
    "mse=mean_squared_error(y_test,y_pred)\n",
    "mse"
   ]
  },
  {
   "cell_type": "markdown",
   "id": "3a04518c",
   "metadata": {},
   "source": [
    "###### Mean Squared error is nothing but the total squared mean value of errors"
   ]
  },
  {
   "cell_type": "code",
   "execution_count": 26,
   "id": "056fb7ab",
   "metadata": {},
   "outputs": [
    {
     "data": {
      "text/plain": [
       "13224.483729307565"
      ]
     },
     "execution_count": 26,
     "metadata": {},
     "output_type": "execute_result"
    }
   ],
   "source": [
    "mae=mean_absolute_error(y_test,y_pred)\n",
    "mae"
   ]
  },
  {
   "cell_type": "markdown",
   "id": "5c68fdd7",
   "metadata": {},
   "source": [
    "###### Mean Absolute Error is nothing but the Total absolute mean of error"
   ]
  },
  {
   "cell_type": "code",
   "execution_count": 27,
   "id": "209282cd",
   "metadata": {},
   "outputs": [
    {
     "data": {
      "text/plain": [
       "(89689, 13)"
      ]
     },
     "execution_count": 27,
     "metadata": {},
     "output_type": "execute_result"
    }
   ],
   "source": [
    "x_test.shape"
   ]
  },
  {
   "cell_type": "code",
   "execution_count": 28,
   "id": "f37b4467",
   "metadata": {},
   "outputs": [],
   "source": [
    "adjusted_r2score= 1-((1-0.17114759348977915)*(89689-13)/(89689- 13 -1))"
   ]
  },
  {
   "cell_type": "code",
   "execution_count": 29,
   "id": "9d87fb60",
   "metadata": {},
   "outputs": [
    {
     "data": {
      "text/plain": [
       "0.17113835064164418"
      ]
     },
     "execution_count": 29,
     "metadata": {},
     "output_type": "execute_result"
    }
   ],
   "source": [
    "adjusted_r2score"
   ]
  },
  {
   "cell_type": "markdown",
   "id": "a7a9df22",
   "metadata": {},
   "source": [
    "###### As we are not getting an increasing accuracy score in adjusted r2_score also,so now we are moving for another model to get the more accuracy rate"
   ]
  },
  {
   "cell_type": "code",
   "execution_count": null,
   "id": "8c3f5c17",
   "metadata": {},
   "outputs": [],
   "source": [
    "!pip install xgboost"
   ]
  },
  {
   "cell_type": "markdown",
   "id": "286a3b05",
   "metadata": {},
   "source": [
    "##### we installed the XGB booster to predict the data"
   ]
  },
  {
   "cell_type": "code",
   "execution_count": 30,
   "id": "ddfc1fd4",
   "metadata": {
    "scrolled": true
   },
   "outputs": [],
   "source": [
    "from xgboost import XGBRegressor"
   ]
  },
  {
   "cell_type": "markdown",
   "id": "ab2e0d84",
   "metadata": {},
   "source": [
    "###### from XGBoost we are importing XGBRegressor as we are having our Target column as a continous data"
   ]
  },
  {
   "cell_type": "code",
   "execution_count": 31,
   "id": "85e77284",
   "metadata": {},
   "outputs": [],
   "source": [
    "model=XGBRegressor()"
   ]
  },
  {
   "cell_type": "markdown",
   "id": "f967d247",
   "metadata": {},
   "source": [
    "###### we called our model"
   ]
  },
  {
   "cell_type": "code",
   "execution_count": null,
   "id": "620fca24",
   "metadata": {},
   "outputs": [],
   "source": [
    "model.fit(x_train,y_train)"
   ]
  },
  {
   "cell_type": "markdown",
   "id": "1b42d0cc",
   "metadata": {},
   "source": [
    "###### we fitted our data in the model"
   ]
  },
  {
   "cell_type": "code",
   "execution_count": 54,
   "id": "9232932b",
   "metadata": {},
   "outputs": [],
   "source": [
    "y_pred_k = model.predict(x_test)"
   ]
  },
  {
   "cell_type": "markdown",
   "id": "45c60fda",
   "metadata": {},
   "source": [
    "###### we predicted our data with the help of KGBRegressor"
   ]
  },
  {
   "cell_type": "code",
   "execution_count": 56,
   "id": "00884f97",
   "metadata": {},
   "outputs": [
    {
     "data": {
      "text/plain": [
       "0.9037495855233217"
      ]
     },
     "execution_count": 56,
     "metadata": {},
     "output_type": "execute_result"
    }
   ],
   "source": [
    "accuracy_26 = r2_score(y_test,y_pred_k)\n",
    "accuracy_26"
   ]
  },
  {
   "cell_type": "markdown",
   "id": "e89042be",
   "metadata": {},
   "source": [
    "###### we are getting the best accuracy score that is 90%,as i want to check that if there is any way to increase an accuracy by tuning our model"
   ]
  },
  {
   "cell_type": "code",
   "execution_count": 32,
   "id": "523de8dc",
   "metadata": {},
   "outputs": [],
   "source": [
    "from sklearn.model_selection import GridSearchCV\n",
    "param_grid={'n_estimators':[100,300],'learning_rate':[0.01,0.2],'max_depth':[5,7],\n",
    "           'colsample_bytree':[0.8,1.0], 'gamma':[0,0.1],\n",
    "            'lambda':[1.5,2],'alpha':[0.1,0.2]}"
   ]
  },
  {
   "cell_type": "markdown",
   "id": "e2933cec",
   "metadata": {},
   "source": [
    "###### so,im doing Hyper Parameter tuning to increase my accuracy score"
   ]
  },
  {
   "cell_type": "code",
   "execution_count": 33,
   "id": "97ac0f89",
   "metadata": {},
   "outputs": [],
   "source": [
    "grid_search=GridSearchCV(model,param_grid,scoring='neg_mean_squared_error',cv=3,verbose=1,n_jobs=1)"
   ]
  },
  {
   "cell_type": "markdown",
   "id": "b10fd782",
   "metadata": {},
   "source": [
    "###### we are using Grid_searchCV to check which parameter is suitable for our model"
   ]
  },
  {
   "cell_type": "code",
   "execution_count": null,
   "id": "264e5039",
   "metadata": {},
   "outputs": [],
   "source": [
    "grid_search.fit(x_train,y_train)"
   ]
  },
  {
   "cell_type": "markdown",
   "id": "293f1824",
   "metadata": {},
   "source": [
    "###### we are fitting our training data "
   ]
  },
  {
   "cell_type": "code",
   "execution_count": null,
   "id": "9a81e32e",
   "metadata": {},
   "outputs": [],
   "source": [
    "grid_search.best_params_"
   ]
  },
  {
   "cell_type": "markdown",
   "id": "58a9a0d6",
   "metadata": {},
   "source": [
    "###### we got best parameter's"
   ]
  },
  {
   "cell_type": "code",
   "execution_count": 34,
   "id": "1b2bb06d",
   "metadata": {},
   "outputs": [],
   "source": [
    "kg_model = XGBRegressor(n_estimators = 300, alpha = 0.2,colsample_bytree = 0.8,gamma = 0,learning_rate =0.2,max_depth = 7)"
   ]
  },
  {
   "cell_type": "markdown",
   "id": "e1ac3a1b",
   "metadata": {},
   "source": [
    "###### we are using all our best parameter's and calling our model"
   ]
  },
  {
   "cell_type": "code",
   "execution_count": 35,
   "id": "287b730b",
   "metadata": {
    "scrolled": true
   },
   "outputs": [
    {
     "data": {
      "text/html": [
       "<style>#sk-container-id-2 {color: black;background-color: white;}#sk-container-id-2 pre{padding: 0;}#sk-container-id-2 div.sk-toggleable {background-color: white;}#sk-container-id-2 label.sk-toggleable__label {cursor: pointer;display: block;width: 100%;margin-bottom: 0;padding: 0.3em;box-sizing: border-box;text-align: center;}#sk-container-id-2 label.sk-toggleable__label-arrow:before {content: \"▸\";float: left;margin-right: 0.25em;color: #696969;}#sk-container-id-2 label.sk-toggleable__label-arrow:hover:before {color: black;}#sk-container-id-2 div.sk-estimator:hover label.sk-toggleable__label-arrow:before {color: black;}#sk-container-id-2 div.sk-toggleable__content {max-height: 0;max-width: 0;overflow: hidden;text-align: left;background-color: #f0f8ff;}#sk-container-id-2 div.sk-toggleable__content pre {margin: 0.2em;color: black;border-radius: 0.25em;background-color: #f0f8ff;}#sk-container-id-2 input.sk-toggleable__control:checked~div.sk-toggleable__content {max-height: 200px;max-width: 100%;overflow: auto;}#sk-container-id-2 input.sk-toggleable__control:checked~label.sk-toggleable__label-arrow:before {content: \"▾\";}#sk-container-id-2 div.sk-estimator input.sk-toggleable__control:checked~label.sk-toggleable__label {background-color: #d4ebff;}#sk-container-id-2 div.sk-label input.sk-toggleable__control:checked~label.sk-toggleable__label {background-color: #d4ebff;}#sk-container-id-2 input.sk-hidden--visually {border: 0;clip: rect(1px 1px 1px 1px);clip: rect(1px, 1px, 1px, 1px);height: 1px;margin: -1px;overflow: hidden;padding: 0;position: absolute;width: 1px;}#sk-container-id-2 div.sk-estimator {font-family: monospace;background-color: #f0f8ff;border: 1px dotted black;border-radius: 0.25em;box-sizing: border-box;margin-bottom: 0.5em;}#sk-container-id-2 div.sk-estimator:hover {background-color: #d4ebff;}#sk-container-id-2 div.sk-parallel-item::after {content: \"\";width: 100%;border-bottom: 1px solid gray;flex-grow: 1;}#sk-container-id-2 div.sk-label:hover label.sk-toggleable__label {background-color: #d4ebff;}#sk-container-id-2 div.sk-serial::before {content: \"\";position: absolute;border-left: 1px solid gray;box-sizing: border-box;top: 0;bottom: 0;left: 50%;z-index: 0;}#sk-container-id-2 div.sk-serial {display: flex;flex-direction: column;align-items: center;background-color: white;padding-right: 0.2em;padding-left: 0.2em;position: relative;}#sk-container-id-2 div.sk-item {position: relative;z-index: 1;}#sk-container-id-2 div.sk-parallel {display: flex;align-items: stretch;justify-content: center;background-color: white;position: relative;}#sk-container-id-2 div.sk-item::before, #sk-container-id-2 div.sk-parallel-item::before {content: \"\";position: absolute;border-left: 1px solid gray;box-sizing: border-box;top: 0;bottom: 0;left: 50%;z-index: -1;}#sk-container-id-2 div.sk-parallel-item {display: flex;flex-direction: column;z-index: 1;position: relative;background-color: white;}#sk-container-id-2 div.sk-parallel-item:first-child::after {align-self: flex-end;width: 50%;}#sk-container-id-2 div.sk-parallel-item:last-child::after {align-self: flex-start;width: 50%;}#sk-container-id-2 div.sk-parallel-item:only-child::after {width: 0;}#sk-container-id-2 div.sk-dashed-wrapped {border: 1px dashed gray;margin: 0 0.4em 0.5em 0.4em;box-sizing: border-box;padding-bottom: 0.4em;background-color: white;}#sk-container-id-2 div.sk-label label {font-family: monospace;font-weight: bold;display: inline-block;line-height: 1.2em;}#sk-container-id-2 div.sk-label-container {text-align: center;}#sk-container-id-2 div.sk-container {/* jupyter's `normalize.less` sets `[hidden] { display: none; }` but bootstrap.min.css set `[hidden] { display: none !important; }` so we also need the `!important` here to be able to override the default hidden behavior on the sphinx rendered scikit-learn.org. See: https://github.com/scikit-learn/scikit-learn/issues/21755 */display: inline-block !important;position: relative;}#sk-container-id-2 div.sk-text-repr-fallback {display: none;}</style><div id=\"sk-container-id-2\" class=\"sk-top-container\"><div class=\"sk-text-repr-fallback\"><pre>XGBRegressor(alpha=0.2, base_score=None, booster=None, callbacks=None,\n",
       "             colsample_bylevel=None, colsample_bynode=None,\n",
       "             colsample_bytree=0.8, device=None, early_stopping_rounds=None,\n",
       "             enable_categorical=False, eval_metric=None, feature_types=None,\n",
       "             gamma=0, grow_policy=None, importance_type=None,\n",
       "             interaction_constraints=None, learning_rate=0.2, max_bin=None,\n",
       "             max_cat_threshold=None, max_cat_to_onehot=None,\n",
       "             max_delta_step=None, max_depth=7, max_leaves=None,\n",
       "             min_child_weight=None, missing=nan, monotone_constraints=None,\n",
       "             multi_strategy=None, n_estimators=300, n_jobs=None,\n",
       "             num_parallel_tree=None, ...)</pre><b>In a Jupyter environment, please rerun this cell to show the HTML representation or trust the notebook. <br />On GitHub, the HTML representation is unable to render, please try loading this page with nbviewer.org.</b></div><div class=\"sk-container\" hidden><div class=\"sk-item\"><div class=\"sk-estimator sk-toggleable\"><input class=\"sk-toggleable__control sk-hidden--visually\" id=\"sk-estimator-id-2\" type=\"checkbox\" checked><label for=\"sk-estimator-id-2\" class=\"sk-toggleable__label sk-toggleable__label-arrow\">XGBRegressor</label><div class=\"sk-toggleable__content\"><pre>XGBRegressor(alpha=0.2, base_score=None, booster=None, callbacks=None,\n",
       "             colsample_bylevel=None, colsample_bynode=None,\n",
       "             colsample_bytree=0.8, device=None, early_stopping_rounds=None,\n",
       "             enable_categorical=False, eval_metric=None, feature_types=None,\n",
       "             gamma=0, grow_policy=None, importance_type=None,\n",
       "             interaction_constraints=None, learning_rate=0.2, max_bin=None,\n",
       "             max_cat_threshold=None, max_cat_to_onehot=None,\n",
       "             max_delta_step=None, max_depth=7, max_leaves=None,\n",
       "             min_child_weight=None, missing=nan, monotone_constraints=None,\n",
       "             multi_strategy=None, n_estimators=300, n_jobs=None,\n",
       "             num_parallel_tree=None, ...)</pre></div></div></div></div></div>"
      ],
      "text/plain": [
       "XGBRegressor(alpha=0.2, base_score=None, booster=None, callbacks=None,\n",
       "             colsample_bylevel=None, colsample_bynode=None,\n",
       "             colsample_bytree=0.8, device=None, early_stopping_rounds=None,\n",
       "             enable_categorical=False, eval_metric=None, feature_types=None,\n",
       "             gamma=0, grow_policy=None, importance_type=None,\n",
       "             interaction_constraints=None, learning_rate=0.2, max_bin=None,\n",
       "             max_cat_threshold=None, max_cat_to_onehot=None,\n",
       "             max_delta_step=None, max_depth=7, max_leaves=None,\n",
       "             min_child_weight=None, missing=nan, monotone_constraints=None,\n",
       "             multi_strategy=None, n_estimators=300, n_jobs=None,\n",
       "             num_parallel_tree=None, ...)"
      ]
     },
     "execution_count": 35,
     "metadata": {},
     "output_type": "execute_result"
    }
   ],
   "source": [
    "kg_model.fit(x_train,y_train)"
   ]
  },
  {
   "cell_type": "markdown",
   "id": "8bad286d",
   "metadata": {},
   "source": [
    "###### we fitted our model in kg_model"
   ]
  },
  {
   "cell_type": "code",
   "execution_count": 36,
   "id": "6d95bae1",
   "metadata": {},
   "outputs": [],
   "source": [
    "y_pred_kg = kg_model.predict(x_test)"
   ]
  },
  {
   "cell_type": "markdown",
   "id": "62182562",
   "metadata": {},
   "source": [
    "##### we predicted our model"
   ]
  },
  {
   "cell_type": "code",
   "execution_count": 37,
   "id": "1733a070",
   "metadata": {},
   "outputs": [
    {
     "data": {
      "text/plain": [
       "array([44638.98 , 57634.086, 25647.   , ..., 59628.047, 42706.76 ,\n",
       "       79471.24 ], dtype=float32)"
      ]
     },
     "execution_count": 37,
     "metadata": {},
     "output_type": "execute_result"
    }
   ],
   "source": [
    "y_pred_kg"
   ]
  },
  {
   "cell_type": "code",
   "execution_count": 38,
   "id": "69f77929",
   "metadata": {},
   "outputs": [
    {
     "data": {
      "text/plain": [
       "30057211.45727188"
      ]
     },
     "execution_count": 38,
     "metadata": {},
     "output_type": "execute_result"
    }
   ],
   "source": [
    "from sklearn.metrics import accuracy_score\n",
    "\n",
    "accuracy = mean_squared_error(y_test,y_pred_kg)\n",
    "accuracy"
   ]
  },
  {
   "cell_type": "code",
   "execution_count": 39,
   "id": "bf03f1b7",
   "metadata": {},
   "outputs": [],
   "source": [
    "accuracy_1 =mean_absolute_error(y_test,y_pred_kg)"
   ]
  },
  {
   "cell_type": "code",
   "execution_count": 40,
   "id": "490988ca",
   "metadata": {},
   "outputs": [
    {
     "data": {
      "text/plain": [
       "0.9130354342844956"
      ]
     },
     "execution_count": 40,
     "metadata": {},
     "output_type": "execute_result"
    }
   ],
   "source": [
    "accuracy_2 = r2_score(y_test,y_pred_kg)\n",
    "accuracy_2"
   ]
  },
  {
   "cell_type": "markdown",
   "id": "d7d4b6e6",
   "metadata": {},
   "source": [
    "###### we got an best accuracy score but we got only an increase of 1% after tuning.so,we are going for another model for gaining the best accuracy score"
   ]
  },
  {
   "cell_type": "code",
   "execution_count": 41,
   "id": "82136768",
   "metadata": {},
   "outputs": [],
   "source": [
    "from sklearn.ensemble import RandomForestRegressor"
   ]
  },
  {
   "cell_type": "markdown",
   "id": "e65e1782",
   "metadata": {},
   "source": [
    "###### from Sickit learn we imported RandomForestRegressor as we are having a Target column as a conitinous data"
   ]
  },
  {
   "cell_type": "code",
   "execution_count": 42,
   "id": "603b138f",
   "metadata": {},
   "outputs": [],
   "source": [
    "random_forest=RandomForestRegressor(n_estimators=100,verbose=3,random_state=0)"
   ]
  },
  {
   "cell_type": "markdown",
   "id": "f23e11de",
   "metadata": {},
   "source": [
    "###### we are calling our model with parameters"
   ]
  },
  {
   "cell_type": "code",
   "execution_count": 44,
   "id": "165ff34f",
   "metadata": {
    "scrolled": false
   },
   "outputs": [
    {
     "name": "stderr",
     "output_type": "stream",
     "text": [
      "[Parallel(n_jobs=1)]: Using backend SequentialBackend with 1 concurrent workers.\n"
     ]
    },
    {
     "name": "stdout",
     "output_type": "stream",
     "text": [
      "building tree 1 of 100\n"
     ]
    },
    {
     "name": "stderr",
     "output_type": "stream",
     "text": [
      "[Parallel(n_jobs=1)]: Done   1 out of   1 | elapsed:    0.3s remaining:    0.0s\n"
     ]
    },
    {
     "name": "stdout",
     "output_type": "stream",
     "text": [
      "building tree 2 of 100\n"
     ]
    },
    {
     "name": "stderr",
     "output_type": "stream",
     "text": [
      "[Parallel(n_jobs=1)]: Done   2 out of   2 | elapsed:    0.8s remaining:    0.0s\n"
     ]
    },
    {
     "name": "stdout",
     "output_type": "stream",
     "text": [
      "building tree 3 of 100\n",
      "building tree 4 of 100\n",
      "building tree 5 of 100\n",
      "building tree 6 of 100\n",
      "building tree 7 of 100\n",
      "building tree 8 of 100\n",
      "building tree 9 of 100\n",
      "building tree 10 of 100\n",
      "building tree 11 of 100\n",
      "building tree 12 of 100\n",
      "building tree 13 of 100\n",
      "building tree 14 of 100\n",
      "building tree 15 of 100\n",
      "building tree 16 of 100\n",
      "building tree 17 of 100\n",
      "building tree 18 of 100\n",
      "building tree 19 of 100\n",
      "building tree 20 of 100\n",
      "building tree 21 of 100\n",
      "building tree 22 of 100\n",
      "building tree 23 of 100\n",
      "building tree 24 of 100\n",
      "building tree 25 of 100\n",
      "building tree 26 of 100\n",
      "building tree 27 of 100\n",
      "building tree 28 of 100\n",
      "building tree 29 of 100\n",
      "building tree 30 of 100\n",
      "building tree 31 of 100\n",
      "building tree 32 of 100\n",
      "building tree 33 of 100\n",
      "building tree 34 of 100\n",
      "building tree 35 of 100\n",
      "building tree 36 of 100\n",
      "building tree 37 of 100\n",
      "building tree 38 of 100\n",
      "building tree 39 of 100\n",
      "building tree 40 of 100\n",
      "building tree 41 of 100\n",
      "building tree 42 of 100\n",
      "building tree 43 of 100\n",
      "building tree 44 of 100\n",
      "building tree 45 of 100\n",
      "building tree 46 of 100\n",
      "building tree 47 of 100\n",
      "building tree 48 of 100\n",
      "building tree 49 of 100\n",
      "building tree 50 of 100\n",
      "building tree 51 of 100\n",
      "building tree 52 of 100\n",
      "building tree 53 of 100\n",
      "building tree 54 of 100\n",
      "building tree 55 of 100\n",
      "building tree 56 of 100\n",
      "building tree 57 of 100\n",
      "building tree 58 of 100\n",
      "building tree 59 of 100\n",
      "building tree 60 of 100\n",
      "building tree 61 of 100\n",
      "building tree 62 of 100\n",
      "building tree 63 of 100\n",
      "building tree 64 of 100\n",
      "building tree 65 of 100\n",
      "building tree 66 of 100\n",
      "building tree 67 of 100\n",
      "building tree 68 of 100\n",
      "building tree 69 of 100\n",
      "building tree 70 of 100\n",
      "building tree 71 of 100\n",
      "building tree 72 of 100\n",
      "building tree 73 of 100\n",
      "building tree 74 of 100\n",
      "building tree 75 of 100\n",
      "building tree 76 of 100\n",
      "building tree 77 of 100\n",
      "building tree 78 of 100\n",
      "building tree 79 of 100\n",
      "building tree 80 of 100\n",
      "building tree 81 of 100\n",
      "building tree 82 of 100\n",
      "building tree 83 of 100\n",
      "building tree 84 of 100\n",
      "building tree 85 of 100\n",
      "building tree 86 of 100\n",
      "building tree 87 of 100\n",
      "building tree 88 of 100\n",
      "building tree 89 of 100\n",
      "building tree 90 of 100\n",
      "building tree 91 of 100\n",
      "building tree 92 of 100\n",
      "building tree 93 of 100\n",
      "building tree 94 of 100\n",
      "building tree 95 of 100\n",
      "building tree 96 of 100\n",
      "building tree 97 of 100\n",
      "building tree 98 of 100\n",
      "building tree 99 of 100\n",
      "building tree 100 of 100\n"
     ]
    },
    {
     "name": "stderr",
     "output_type": "stream",
     "text": [
      "[Parallel(n_jobs=1)]: Done 100 out of 100 | elapsed:   38.1s finished\n"
     ]
    },
    {
     "data": {
      "text/html": [
       "<style>#sk-container-id-3 {color: black;background-color: white;}#sk-container-id-3 pre{padding: 0;}#sk-container-id-3 div.sk-toggleable {background-color: white;}#sk-container-id-3 label.sk-toggleable__label {cursor: pointer;display: block;width: 100%;margin-bottom: 0;padding: 0.3em;box-sizing: border-box;text-align: center;}#sk-container-id-3 label.sk-toggleable__label-arrow:before {content: \"▸\";float: left;margin-right: 0.25em;color: #696969;}#sk-container-id-3 label.sk-toggleable__label-arrow:hover:before {color: black;}#sk-container-id-3 div.sk-estimator:hover label.sk-toggleable__label-arrow:before {color: black;}#sk-container-id-3 div.sk-toggleable__content {max-height: 0;max-width: 0;overflow: hidden;text-align: left;background-color: #f0f8ff;}#sk-container-id-3 div.sk-toggleable__content pre {margin: 0.2em;color: black;border-radius: 0.25em;background-color: #f0f8ff;}#sk-container-id-3 input.sk-toggleable__control:checked~div.sk-toggleable__content {max-height: 200px;max-width: 100%;overflow: auto;}#sk-container-id-3 input.sk-toggleable__control:checked~label.sk-toggleable__label-arrow:before {content: \"▾\";}#sk-container-id-3 div.sk-estimator input.sk-toggleable__control:checked~label.sk-toggleable__label {background-color: #d4ebff;}#sk-container-id-3 div.sk-label input.sk-toggleable__control:checked~label.sk-toggleable__label {background-color: #d4ebff;}#sk-container-id-3 input.sk-hidden--visually {border: 0;clip: rect(1px 1px 1px 1px);clip: rect(1px, 1px, 1px, 1px);height: 1px;margin: -1px;overflow: hidden;padding: 0;position: absolute;width: 1px;}#sk-container-id-3 div.sk-estimator {font-family: monospace;background-color: #f0f8ff;border: 1px dotted black;border-radius: 0.25em;box-sizing: border-box;margin-bottom: 0.5em;}#sk-container-id-3 div.sk-estimator:hover {background-color: #d4ebff;}#sk-container-id-3 div.sk-parallel-item::after {content: \"\";width: 100%;border-bottom: 1px solid gray;flex-grow: 1;}#sk-container-id-3 div.sk-label:hover label.sk-toggleable__label {background-color: #d4ebff;}#sk-container-id-3 div.sk-serial::before {content: \"\";position: absolute;border-left: 1px solid gray;box-sizing: border-box;top: 0;bottom: 0;left: 50%;z-index: 0;}#sk-container-id-3 div.sk-serial {display: flex;flex-direction: column;align-items: center;background-color: white;padding-right: 0.2em;padding-left: 0.2em;position: relative;}#sk-container-id-3 div.sk-item {position: relative;z-index: 1;}#sk-container-id-3 div.sk-parallel {display: flex;align-items: stretch;justify-content: center;background-color: white;position: relative;}#sk-container-id-3 div.sk-item::before, #sk-container-id-3 div.sk-parallel-item::before {content: \"\";position: absolute;border-left: 1px solid gray;box-sizing: border-box;top: 0;bottom: 0;left: 50%;z-index: -1;}#sk-container-id-3 div.sk-parallel-item {display: flex;flex-direction: column;z-index: 1;position: relative;background-color: white;}#sk-container-id-3 div.sk-parallel-item:first-child::after {align-self: flex-end;width: 50%;}#sk-container-id-3 div.sk-parallel-item:last-child::after {align-self: flex-start;width: 50%;}#sk-container-id-3 div.sk-parallel-item:only-child::after {width: 0;}#sk-container-id-3 div.sk-dashed-wrapped {border: 1px dashed gray;margin: 0 0.4em 0.5em 0.4em;box-sizing: border-box;padding-bottom: 0.4em;background-color: white;}#sk-container-id-3 div.sk-label label {font-family: monospace;font-weight: bold;display: inline-block;line-height: 1.2em;}#sk-container-id-3 div.sk-label-container {text-align: center;}#sk-container-id-3 div.sk-container {/* jupyter's `normalize.less` sets `[hidden] { display: none; }` but bootstrap.min.css set `[hidden] { display: none !important; }` so we also need the `!important` here to be able to override the default hidden behavior on the sphinx rendered scikit-learn.org. See: https://github.com/scikit-learn/scikit-learn/issues/21755 */display: inline-block !important;position: relative;}#sk-container-id-3 div.sk-text-repr-fallback {display: none;}</style><div id=\"sk-container-id-3\" class=\"sk-top-container\"><div class=\"sk-text-repr-fallback\"><pre>RandomForestRegressor(random_state=0, verbose=3)</pre><b>In a Jupyter environment, please rerun this cell to show the HTML representation or trust the notebook. <br />On GitHub, the HTML representation is unable to render, please try loading this page with nbviewer.org.</b></div><div class=\"sk-container\" hidden><div class=\"sk-item\"><div class=\"sk-estimator sk-toggleable\"><input class=\"sk-toggleable__control sk-hidden--visually\" id=\"sk-estimator-id-3\" type=\"checkbox\" checked><label for=\"sk-estimator-id-3\" class=\"sk-toggleable__label sk-toggleable__label-arrow\">RandomForestRegressor</label><div class=\"sk-toggleable__content\"><pre>RandomForestRegressor(random_state=0, verbose=3)</pre></div></div></div></div></div>"
      ],
      "text/plain": [
       "RandomForestRegressor(random_state=0, verbose=3)"
      ]
     },
     "execution_count": 44,
     "metadata": {},
     "output_type": "execute_result"
    }
   ],
   "source": [
    "random_forest.fit(x_train,y_train)"
   ]
  },
  {
   "cell_type": "markdown",
   "id": "fca80d1a",
   "metadata": {},
   "source": [
    "###### we fitted our training data in our model"
   ]
  },
  {
   "cell_type": "code",
   "execution_count": 45,
   "id": "e648c08f",
   "metadata": {
    "scrolled": false
   },
   "outputs": [
    {
     "name": "stderr",
     "output_type": "stream",
     "text": [
      "[Parallel(n_jobs=1)]: Using backend SequentialBackend with 1 concurrent workers.\n",
      "[Parallel(n_jobs=1)]: Done   1 out of   1 | elapsed:    0.0s remaining:    0.0s\n",
      "[Parallel(n_jobs=1)]: Done   2 out of   2 | elapsed:    0.0s remaining:    0.0s\n",
      "[Parallel(n_jobs=1)]: Done 100 out of 100 | elapsed:    2.8s finished\n"
     ]
    }
   ],
   "source": [
    "y_rf=random_forest.predict(x_test)"
   ]
  },
  {
   "cell_type": "code",
   "execution_count": 46,
   "id": "d5870652",
   "metadata": {},
   "outputs": [
    {
     "data": {
      "text/plain": [
       "0.9363238412416282"
      ]
     },
     "execution_count": 46,
     "metadata": {},
     "output_type": "execute_result"
    }
   ],
   "source": [
    "accuracy_3=r2_score(y_test,y_rf)\n",
    "accuracy_3"
   ]
  },
  {
   "cell_type": "markdown",
   "id": "5652cd1f",
   "metadata": {},
   "source": [
    "###### we got a best accuracy score as 93%,from the model RandomForestRegressor"
   ]
  },
  {
   "cell_type": "code",
   "execution_count": null,
   "id": "59d88f19",
   "metadata": {},
   "outputs": [],
   "source": [
    "#To determine the outliers in the salary, we can consider the hourly rates and the mean average salary, plotted against the agency and status of the workforce.\n",
    "\n",
    "If we observe the plotted graph of average hourly rate against the agency name, we can see that the “COMPTROLLER OF PUBLIC ACCOUNTS, JUDICIARY”, has a distinct peak, almost six times more than the other agencies in the mix.\n",
    "Next, if we check the graph of average hourly rate plotted against the status, we observe that EXEMPT REGULAR PART-TIME, ERP and UNCLASSIFIED REGULAR PART-TIME, URP categories are exceeding other categories around 5 and 3 times respectively. This can be further observed in the box plot between Annual and status.\n",
    "\n",
    "We also see that EXEMPT REGULAR FULL-TIME, ERF has more distinct number of outlier instances closely followed by UNCLASSIFIED REGULAR FULL-TIME, URF status of the employee.\n",
    "\n",
    "To check the Wage disparities between managers and employee, we first need to establish the definition of managers and employee in the context of the data. As the data is of real-world situation, we can safely assume the difference in working hours and salary to be the two distinct points of contrast between the said categories of the employees- we first check the same through the graphs- a) In the bar plot between average work hours and employee status, we can see that four categories viz. CTP, CRP, ERP and UTP have put in around half of the work-hours when compared to the top 5 categories in same graph, while UTF has a slightly more work hours than the lowest four, it still has put around 40 per cent less work than the top 5 categories.\n",
    "\n",
    "b) Amongst CTP, CRP, ERP and UTP, only ERP, Exempt Regular Parttime makes double the monthly wages than the other three categories, as can be seen from the average monthly vs status bar plot.\n",
    "\n",
    "c) We can assume that categories CTP, CRP and UTP come in employees’ criteria, while this criterion is very narrow as to wage gaps and positions, we can further analyze the wage gap with actual salary difference.\n",
    "\n",
    "In terms of RMSE, XGBoost Model is the best model among models."
   ]
  },
  {
   "cell_type": "code",
   "execution_count": 57,
   "id": "d9de6166",
   "metadata": {},
   "outputs": [],
   "source": [
    "r2_1 = r2_score(y_test,y_pred)\n",
    "r2_2 = r2_score(y_test,y_pred_k)\n",
    "r2_3 = r2_score(y_test,y_pred_kg)\n",
    "r2_4 = r2_score(y_test,y_rf)"
   ]
  },
  {
   "cell_type": "code",
   "execution_count": 69,
   "id": "1cda28d0",
   "metadata": {},
   "outputs": [
    {
     "data": {
      "text/plain": [
       "<Axes: >"
      ]
     },
     "execution_count": 69,
     "metadata": {},
     "output_type": "execute_result"
    },
    {
     "data": {
      "image/png": "[encoded data removed]",
      "text/plain": [
       "<Figure size 640x480 with 1 Axes>"
      ]
     },
     "metadata": {},
     "output_type": "display_data"
    }
   ],
   "source": [
    "sns.barplot(x=['linear_regression', 'kgb', 'kg with ht', 'RF'], y=[r2_1,r2_2,r2_3,r2_4])"
   ]
  },
  {
   "cell_type": "markdown",
   "id": "04d2b448",
   "metadata": {},
   "source": [
    "### Conclusion:\n",
    "######              The best model is 'RandomForestRegressor' and 'KGBooster'"
   ]
  },
  {
   "cell_type": "code",
   "execution_count": null,
   "id": "e833ed3b",
   "metadata": {},
   "outputs": [],
   "source": []
  }
 ],
 "metadata": {
  "kernelspec": {
   "display_name": "Python 3 (ipykernel)",
   "language": "python",
   "name": "python3"
  },
  "language_info": {
   "codemirror_mode": {
    "name": "ipython",
    "version": 3
   },
   "file_extension": ".py",
   "mimetype": "text/x-python",
   "name": "python",
   "nbconvert_exporter": "python",
   "pygments_lexer": "ipython3",
   "version": "3.11.5"
  }
 },
 "nbformat": 4,
 "nbformat_minor": 5
}
